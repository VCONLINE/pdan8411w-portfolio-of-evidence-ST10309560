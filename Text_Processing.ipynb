{
  "nbformat": 4,
  "nbformat_minor": 0,
  "metadata": {
    "colab": {
      "provenance": []
    },
    "kernelspec": {
      "name": "python3",
      "display_name": "Python 3"
    },
    "language_info": {
      "name": "python"
    }
  },
  "cells": [
    {
      "cell_type": "markdown",
      "source": [
        "# **What is Text Processing?**\n",
        "\n",
        "Text processing is the automatic interpretation of text in computer form. This makes it possible for machine learning models to obtain structured textual data for text analysis, text manipulation, or text generation. It is one of the most popular tasks in machine learning applications, including emotion analysis, spam filtering, language translation, and many more (DataRobot AI Cloud, n.d). Natural language processing is the capacity of a computer to comprehend human language in a useful fashion, whereas text processing primarily relates to the analysis, creation, and manipulation of text. In essence, text processing is followed by natural language processing (DataRobot AI Cloud, n.d).\n",
        "\n",
        "For instance, a machine learning model may be trained in advance to find occurrences of positive or negative sentiment phrases to do a basic sentiment analysis. Since the model is just searching for terms that it has been instructed to look for and isn't interpreting the words, this would be considered text processing (DataRobot AI Cloud, n.d). Translating whole phrases into another language would be an example of a natural language processing model. The computer must comprehend the meaning of the phrases to translate them properly because syntax differs between languages. Though NLP is more sophisticated than text processing, text processing is always a necessary stage in the process (DataRobot AI Cloud, n.d).\n",
        "\n",
        "Since most people use apps regularly that employ text processing in the background, text processing is one of the machine learning applications that the average technology consumer is unaware they are utilising (DataRobot AI Cloud, n.d).\n",
        "\n",
        "One of the most crucial methods for businesses to obtain business insights is through text data, as our interactions with brands have shifted to being more online and textual. Text data may reveal to a company how its clients browse, purchase from, and engage with its products, rivals, and brands online. Businesses can manage these massive volumes of text data thanks to machine learning and text processing (DataRobot AI Cloud, n.d).\n",
        "\n",
        "Topic analysis: Method used to analyse and group vast textual resources into subjects or themes (DataRobot AI Cloud, n.d).\n",
        "\n",
        "Sentiment analysis: This feature categorizes text's emotional undertones as good, negative, or neutral by automatically detecting them (DataRobot AI Cloud, n.d).\n",
        "\n",
        "This categorization model identifies the text's aim, purpose, or objective. It could ascertain, for instance, if the goal is to obtain information, make a transaction, or stop receiving emails from the business (DataRobot AI Cloud, n.d).\n",
        "\n",
        "Language classification: Text is categorized according to the language in which it was written (DataRobot AI Cloud, n.d).\n",
        "\n",
        "In Python, cleaning, transforming, and preparing text data for analysis or modelling requires several procedures known as text preprocessing. Libraries like nltk for text processing tools and scikit-learn for vectorization may be used to arrange these processes into a pipeline (DataRobot AI Cloud, n.d).\n",
        "\n",
        "1. Tokenization and Text Cleaning.\n",
        "Eliminating extraneous letters, punctuation, and formatting from the text is known as text cleaning. Text is divided into individual words or phrases using basic tokenization, which is necessary for additional analysis (DataRobot AI Cloud, n.d).\n",
        "\n",
        "2. TF-IDF Vectorization and Advanced Tokenization.\n",
        "To handle unusual instances like hashtags, emoticons, or URLs, advanced tokenization may be used. A statistical metric called TF-IDF (Term Frequency-Inverse Document Frequency) is employed to assess a document's word relevance about a corpus or collection of documents (DataRobot AI Cloud, n.d). Text is transformed into numerical vectors, with each word's significance determined by how often it appears in the document and how frequently it appears in all papers combined (DataRobot AI Cloud, n.d).\n",
        "\n",
        "3. Lemmatization and Stemming.\n",
        "By reducing words to their root form (for example, \"running\" to \"run\"), stemming contributes to the reduction of vocabulary size and the normalization of word forms. Lemmatization takes one step further by taking the context and meaning of words into consideration and changing them to their base or dictionary form (for example, \"better\" to \"good\") (DataRobot AI Cloud, n.d).\n",
        "\n",
        "4. LDA, or Latent Dirichlet Allocation.\n",
        "For topic modelling, generative probabilistic models like LDA are employed. By allocating topic distributions to words and texts, it uncovers underlying themes in a corpus of materials. According to LDA, every document consists of a variety of themes, and every topic is a distribution of words (DataRobot AI Cloud, n.d).\n",
        "\n",
        "For machine learning models that evaluate text input and tasks involving natural language processing (NLP), text preparation is essential. It guarantees that the data is clean, consistent, and organized so that algorithms can recognize patterns and derive valuable insights from them (DataRobot AI Cloud, n.d). Analysts and data scientists can enhance the precision and comprehensibility of their text-based models and applications by adhering to a systematic preprocessing methodology (DataRobot AI Cloud, n.d)."
      ],
      "metadata": {
        "id": "GDhH0bAOaZy7"
      }
    },
    {
      "cell_type": "markdown",
      "source": [
        "# **Why dataset is appropriate for analysis with text processing ?**\n",
        "\n",
        "Textual Data with Emotional Content:\n",
        "Every item in the collection includes language that conveys a range of emotions, including joy, fear, anger, and comment. Because of this, it has a high emotional content and is perfect for tasks like emotion categorization and sentiment analysis. These emotional cues included within the textual material can be successfully captured and interpreted by text processing algorithms (Patel et al., 2023).\n",
        "\n",
        "Binary Classification Task:\n",
        "The main objective of the dataset is to categorize text items into distinct emotional groups, such as fear, anger, and joy. As a multi-class classification challenge, this task may be tackled by using text processing techniques to assess and forecast emotional states from text content (Patel et al., 2023).\n",
        "\n",
        "Feature Extraction for Emotion Prediction:\n",
        "Relevant features may be extracted from the text input using methods like advanced tokenization, TF-IDF vectorization, and tokenization. To train machine learning models to reliably predict the emotional states expressed in the dataset, for instance, it might be helpful to identify keywords or phrases linked with emotions (Patel et al., 2023).\n",
        "\n",
        "Algorithm Suitability: Naive Bayes and other text processing algorithms work well for modelling emotional content since they are suitable for categorical data and assume feature independence. Like this, text characteristics are used by algorithms like K-Nearest Neighbors (KNN) to find patterns in emotional expressions and forecast emotional states throughout the dataset (Patel et al., 2023).\n",
        "\n",
        "Manageable Dataset Size: Emotion prediction datasets usually consist of a reasonable amount of data, which makes it possible to train and evaluate models effectively without using too many computer resources. This feature facilitates the useful deployment of text processing methods for dataset analysis and insight extraction (Patel et al., 2023).\n",
        "\n",
        "Evaluation Metrics: When evaluating how well text processing models perform in predicting emotions, metrics including accuracy, precision, recall, and F1-score are pertinent. Robust assessment and interpretation of findings are ensured by these metrics, which offer quantifiable measurements of how successfully the models identify emotional states indicated in the textual data (Patel et al., 2023).\n",
        "\n",
        "Practical Relevance: By concentrating on the study and comprehension of emotional expressions transmitted via text, the emotions dataset provides a useful background for text processing tasks. The value and understanding of the results are improved by this relevance, which guarantees that text processing algorithms applied to the dataset produce actionable insights relevant to real-world circumstances (Patel et al., 2023).\n",
        "\n",
        "Python Pipelines Application:\n",
        "Text data may be methodically pre-processed by using pipelines. For example, we can do emotional content analysis consistently and efficiently by chaining tasks like text cleaning, tokenization, and feature extraction together (Responsible AI for Developers Blog, n.d).\n",
        "\n",
        "Applying TF-IDF (Term Frequency-Inverse Document Frequency):\n",
        "The significance of each word in each remark would be evaluated using its appearances throughout the dataset using TF-IDF. For instance, words like \"hate\" and \"reluctant\" may score higher on the TF-IDF in fear-related remarks, demonstrating how important they are in communicating fear-related emotions (Responsible AI for Developers Blog, n.d).\n",
        "\n",
        "Applying Lemmatization and Stemming:\n",
        "Words would be returned to their basic forms by stemming and lemmatization, improving the accuracy and consistency of emotional content analysis. Lemmatization could change \"feel\" to \"feeling,\" while stemming might decrease \"hate\" and \"hated\" to \"hat\" or \"fear\" and \"fearing\" to \"fear,\" maintaining the semantic meaning in emotion categorization tasks (Responsible AI for Developers Blog, n.d).\n",
        "\n",
        "Using these text processing methods on the emotions dataset not only makes sentiment analysis and emotion categorization easier but also helps us better understand how various emotional states are expressed in text. Comprehensive investigation and interpretation of emotional content is made possible by this method, which enhances the quality of studies and applications in the fields of computational linguistics (Responsible AI for Developers Blog, n.d).\n",
        "\n",
        "In conclusion, text processing analysis may benefit greatly and is appropriate for the emotions dataset, which makes it possible to efficiently extract, analyse, and forecast emotional states from textual data. The dataset's alignment with text processing methods highlights its importance and usefulness in furthering sentiment analysis and emotional content comprehension research and applications (Patel et al., 2023)."
      ],
      "metadata": {
        "id": "Jj2cl4GCahkE"
      }
    },
    {
      "cell_type": "markdown",
      "source": [
        "# **What is the purpose of the analysis?**\n",
        "The purpose of the analysis is to get significant insights from textual data that convey a range of emotions. A deeper understanding of the textual expression of emotions such as fear, anger, joy, and remarks is sought through the application of machine learning models and text processing techniques. Creating models that precisely categorize text into emotional groups such that automated emotional analysis is possible. Giving useful information for applications in emotional intelligence and sentiment analysis. Using textual data to identify patterns and trends in emotional expression, makes a valuable contribution to the larger fields of linguistics and computer sciences (Analytics Vidhya, 2021).\n",
        "\n",
        "**1. Import Libraries:**\n",
        "Before beginning any task involving data analysis or machine learning, libraries must be imported. It entails importing the required Python libraries, which offer methods and functions for handling data, parsing text, and creating machine learning models (Analytics Vidhya, 2021).\n",
        "\n",
        "Relevance to Emotions Dataset: We usually load the following libraries for the emotions dataset:\n",
        "\n",
        "Pandas: Used for data analysis and manipulation, including file-based dataset loading and data frame exploration.\n",
        "For numerical operations, NumPy: Offers support for huge, multi-dimensional arrays and matrices.\n",
        "Text preparation activities like as tokenization, stopword elimination, and lemmatization/stemming may be accomplished with the help of libraries like spaCy and nltk (Natural Language Toolkit).\n",
        "sklearn (Scikit-learn): A machine learning library containing tools for selecting, training, evaluating, and preparing data (Analytics Vidhya, 2021).\n",
        "\n",
        "**2. Open Dataset: **\n",
        "To open a dataset, its source—a CSV file, JSON file, database, or any other format in which the data is stored—must be loaded into memory. We can now begin examining and getting the data ready for analysis thanks to this step.\n",
        "Pertinence to the Emotions Database:\n",
        "Bringing the Dataset Up: We usually use pandas to read a CSV file containing the textual data and related feelings for the emotions dataset (Analytics Vidhya, 2021).\n",
        "\n",
        "Understanding and Investigating Data\n",
        "Dataset Familiarization: Started by comprehending the features (like text comments) and the target variable (emotions like fear, rage, and joy) in the emotions dataset (Analytics Vidhya, 2021).\n",
        "\n",
        "**3 Exploratory Data Analysis (EDA):**\n",
        "Examined the dataset to find trends in how people express their feelings, and how different emotions are distributed across it, and to gained knowledge that will help with preprocessing and modelling in the future (Analytics Vidhya, 2021).\n",
        "\n",
        "**4 Preprocessing Text**\n",
        "Text Cleaning: To prepare the data for additional analysis, we removed extraneous symbols, special characters, and punctuation from the text (Analytics Vidhya, 2021).\n",
        "\n",
        "Tokenization: To make feature extraction and modelling easier,  we divided the cleaned text into discrete tokens, or individual words or phrases (Analytics Vidhya, 2021).\n",
        "\n",
        "Lowercasing: To guarantee consistency in word representation and to prevent repetition while counting words, we converted all text to lowercase (Analytics Vidhya, 2021).\n",
        "\n",
        "Remove stopwords:  We will get rid of words that are frequently used but don't add any meaning to the emotional context, such as \"the,\" \"is,\" and \"and\" (Analytics Vidhya, 2021).\n",
        "\n",
        "Normalization: To reduce inflectional forms and variations to a single base form, we normalized words using lemmatization (Analytics Vidhya, 2021).\n",
        "\n",
        "**5 Train and Improve Model**\n",
        "TF-IDF Vectorization: Using TF-IDF, which weights words according to their frequency in the document and the dataset,we will convert preprocessed text into numerical vectors that highlight essential terms (Analytics Vidhya, 2021).\n",
        "\n",
        "Analysing and Modelling\n",
        "Model Selection: Depending on the size of the dataset, the kind of text, and the desired results, we will select appropriate machine learning methods such as Naive Bayes for text categorisation tasks (Analytics Vidhya, 2021).\n",
        "\n",
        "Divide the dataset into training and testing sets for the model training process. We will learn patterns that link textual properties to emotional categories by training a subset of models on the training dataset (Analytics Vidhya, 2021).\n",
        "\n",
        "Model Evaluation: To measure how successfully the models predict emotions from textual data, we will evaluate their performance using measures like accuracy, precision, recall, and F1-score (Analytics Vidhya, 2021).\n",
        "\n",
        "Analysis and Illustration\n",
        "Interpret Results: Examine the model's predictions to see which emotional states—such as fear or anger—are correctly identified. Determine the essential terms or expressions that majorly impact these forecasts (Analytics Vidhya, 2021).\n",
        "\n",
        "Visualization: To effectively communicate findings, we used visual aids like ROC curve and confusion matrix. The influence of text characteristics on prediction results and the dataset's emotion distribution are better understood through visualization (Analytics Vidhya, 2021)."
      ],
      "metadata": {
        "id": "6UrFCtIlbBH7"
      }
    },
    {
      "cell_type": "markdown",
      "source": [
        "# **DATASET LINK: https://www.kaggle.com/datasets/abdallahwagih/emotion-dataset**"
      ],
      "metadata": {
        "id": "iuvRmVAncyKZ"
      }
    },
    {
      "cell_type": "markdown",
      "source": [
        "# **Step 1: Import Libraries**"
      ],
      "metadata": {
        "id": "6NwntImhalmL"
      }
    },
    {
      "cell_type": "code",
      "execution_count": 49,
      "metadata": {
        "id": "6GneoWO8TcUn"
      },
      "outputs": [],
      "source": [
        "import pandas as pd\n",
        "import numpy as np\n",
        "import seaborn as sns\n",
        "import sklearn as sk\n",
        "from sklearn.model_selection import train_test_split\n",
        "from sklearn.feature_extraction.text import TfidfVectorizer\n",
        "from sklearn.pipeline import Pipeline\n",
        "from sklearn.naive_bayes import MultinomialNB\n",
        "from sklearn.feature_extraction.text import CountVectorizer\n",
        "from sklearn.svm import SVC\n",
        "from sklearn import linear_model, decomposition\n",
        "from sklearn.model_selection import cross_val_score\n",
        "from sklearn.preprocessing import StandardScaler\n",
        "scalar = StandardScaler(with_mean =False)\n",
        "from sklearn.metrics import accuracy_score,classification_report,confusion_matrix,recall_score,f1_score,precision_score"
      ]
    },
    {
      "cell_type": "markdown",
      "source": [
        "A number of libraries and tools are necessary for emotion categorization datasets. Numerical computations and data processing are done with pandas and numpy. Data visualization is aided by Seaborn. TfidfVectorizer and CountVectorizer for text feature extraction, Pipeline for expedited processing, and train_test_split for data splitting are just a few of the tools that Scikit-learn offers for creating, honing, and testing machine learning models. Text classification makes use of classification models such as MultinomialNB and SVC (research.google, n.d.)\n",
        "\n",
        "Modeling and dimensionality reduction are aided by linear models and decomposition methods like PCA and logistic regression. StandardScaler standardizes features, while Cross_val_score uses cross-validation to assess model performance. SMOTE oversamples the minority class in order to rectify imbalanced datasets. Lastly, a comprehensive measure of model performance is provided by evaluation metrics such as accuracy_score, classification_report, confusion_matrix, recall_score, f1_score, and precision_score (research.google, n.d.)."
      ],
      "metadata": {
        "id": "6SLbD_l6kc4d"
      }
    },
    {
      "cell_type": "markdown",
      "source": [
        "# **Step 2: Load the dataset**"
      ],
      "metadata": {
        "id": "q0Sk1dmLa2ni"
      }
    },
    {
      "cell_type": "code",
      "source": [
        "from google.colab import files\n",
        "uploaded = files.upload()"
      ],
      "metadata": {
        "colab": {
          "base_uri": "https://localhost:8080/",
          "height": 73
        },
        "id": "oWf4QiI1KMcq",
        "outputId": "485275f3-d719-4300-df24-7141b44f8d53"
      },
      "execution_count": 1,
      "outputs": [
        {
          "output_type": "display_data",
          "data": {
            "text/plain": [
              "<IPython.core.display.HTML object>"
            ],
            "text/html": [
              "\n",
              "     <input type=\"file\" id=\"files-f725229f-70d5-4b38-84d4-232164b096b1\" name=\"files[]\" multiple disabled\n",
              "        style=\"border:none\" />\n",
              "     <output id=\"result-f725229f-70d5-4b38-84d4-232164b096b1\">\n",
              "      Upload widget is only available when the cell has been executed in the\n",
              "      current browser session. Please rerun this cell to enable.\n",
              "      </output>\n",
              "      <script>// Copyright 2017 Google LLC\n",
              "//\n",
              "// Licensed under the Apache License, Version 2.0 (the \"License\");\n",
              "// you may not use this file except in compliance with the License.\n",
              "// You may obtain a copy of the License at\n",
              "//\n",
              "//      http://www.apache.org/licenses/LICENSE-2.0\n",
              "//\n",
              "// Unless required by applicable law or agreed to in writing, software\n",
              "// distributed under the License is distributed on an \"AS IS\" BASIS,\n",
              "// WITHOUT WARRANTIES OR CONDITIONS OF ANY KIND, either express or implied.\n",
              "// See the License for the specific language governing permissions and\n",
              "// limitations under the License.\n",
              "\n",
              "/**\n",
              " * @fileoverview Helpers for google.colab Python module.\n",
              " */\n",
              "(function(scope) {\n",
              "function span(text, styleAttributes = {}) {\n",
              "  const element = document.createElement('span');\n",
              "  element.textContent = text;\n",
              "  for (const key of Object.keys(styleAttributes)) {\n",
              "    element.style[key] = styleAttributes[key];\n",
              "  }\n",
              "  return element;\n",
              "}\n",
              "\n",
              "// Max number of bytes which will be uploaded at a time.\n",
              "const MAX_PAYLOAD_SIZE = 100 * 1024;\n",
              "\n",
              "function _uploadFiles(inputId, outputId) {\n",
              "  const steps = uploadFilesStep(inputId, outputId);\n",
              "  const outputElement = document.getElementById(outputId);\n",
              "  // Cache steps on the outputElement to make it available for the next call\n",
              "  // to uploadFilesContinue from Python.\n",
              "  outputElement.steps = steps;\n",
              "\n",
              "  return _uploadFilesContinue(outputId);\n",
              "}\n",
              "\n",
              "// This is roughly an async generator (not supported in the browser yet),\n",
              "// where there are multiple asynchronous steps and the Python side is going\n",
              "// to poll for completion of each step.\n",
              "// This uses a Promise to block the python side on completion of each step,\n",
              "// then passes the result of the previous step as the input to the next step.\n",
              "function _uploadFilesContinue(outputId) {\n",
              "  const outputElement = document.getElementById(outputId);\n",
              "  const steps = outputElement.steps;\n",
              "\n",
              "  const next = steps.next(outputElement.lastPromiseValue);\n",
              "  return Promise.resolve(next.value.promise).then((value) => {\n",
              "    // Cache the last promise value to make it available to the next\n",
              "    // step of the generator.\n",
              "    outputElement.lastPromiseValue = value;\n",
              "    return next.value.response;\n",
              "  });\n",
              "}\n",
              "\n",
              "/**\n",
              " * Generator function which is called between each async step of the upload\n",
              " * process.\n",
              " * @param {string} inputId Element ID of the input file picker element.\n",
              " * @param {string} outputId Element ID of the output display.\n",
              " * @return {!Iterable<!Object>} Iterable of next steps.\n",
              " */\n",
              "function* uploadFilesStep(inputId, outputId) {\n",
              "  const inputElement = document.getElementById(inputId);\n",
              "  inputElement.disabled = false;\n",
              "\n",
              "  const outputElement = document.getElementById(outputId);\n",
              "  outputElement.innerHTML = '';\n",
              "\n",
              "  const pickedPromise = new Promise((resolve) => {\n",
              "    inputElement.addEventListener('change', (e) => {\n",
              "      resolve(e.target.files);\n",
              "    });\n",
              "  });\n",
              "\n",
              "  const cancel = document.createElement('button');\n",
              "  inputElement.parentElement.appendChild(cancel);\n",
              "  cancel.textContent = 'Cancel upload';\n",
              "  const cancelPromise = new Promise((resolve) => {\n",
              "    cancel.onclick = () => {\n",
              "      resolve(null);\n",
              "    };\n",
              "  });\n",
              "\n",
              "  // Wait for the user to pick the files.\n",
              "  const files = yield {\n",
              "    promise: Promise.race([pickedPromise, cancelPromise]),\n",
              "    response: {\n",
              "      action: 'starting',\n",
              "    }\n",
              "  };\n",
              "\n",
              "  cancel.remove();\n",
              "\n",
              "  // Disable the input element since further picks are not allowed.\n",
              "  inputElement.disabled = true;\n",
              "\n",
              "  if (!files) {\n",
              "    return {\n",
              "      response: {\n",
              "        action: 'complete',\n",
              "      }\n",
              "    };\n",
              "  }\n",
              "\n",
              "  for (const file of files) {\n",
              "    const li = document.createElement('li');\n",
              "    li.append(span(file.name, {fontWeight: 'bold'}));\n",
              "    li.append(span(\n",
              "        `(${file.type || 'n/a'}) - ${file.size} bytes, ` +\n",
              "        `last modified: ${\n",
              "            file.lastModifiedDate ? file.lastModifiedDate.toLocaleDateString() :\n",
              "                                    'n/a'} - `));\n",
              "    const percent = span('0% done');\n",
              "    li.appendChild(percent);\n",
              "\n",
              "    outputElement.appendChild(li);\n",
              "\n",
              "    const fileDataPromise = new Promise((resolve) => {\n",
              "      const reader = new FileReader();\n",
              "      reader.onload = (e) => {\n",
              "        resolve(e.target.result);\n",
              "      };\n",
              "      reader.readAsArrayBuffer(file);\n",
              "    });\n",
              "    // Wait for the data to be ready.\n",
              "    let fileData = yield {\n",
              "      promise: fileDataPromise,\n",
              "      response: {\n",
              "        action: 'continue',\n",
              "      }\n",
              "    };\n",
              "\n",
              "    // Use a chunked sending to avoid message size limits. See b/62115660.\n",
              "    let position = 0;\n",
              "    do {\n",
              "      const length = Math.min(fileData.byteLength - position, MAX_PAYLOAD_SIZE);\n",
              "      const chunk = new Uint8Array(fileData, position, length);\n",
              "      position += length;\n",
              "\n",
              "      const base64 = btoa(String.fromCharCode.apply(null, chunk));\n",
              "      yield {\n",
              "        response: {\n",
              "          action: 'append',\n",
              "          file: file.name,\n",
              "          data: base64,\n",
              "        },\n",
              "      };\n",
              "\n",
              "      let percentDone = fileData.byteLength === 0 ?\n",
              "          100 :\n",
              "          Math.round((position / fileData.byteLength) * 100);\n",
              "      percent.textContent = `${percentDone}% done`;\n",
              "\n",
              "    } while (position < fileData.byteLength);\n",
              "  }\n",
              "\n",
              "  // All done.\n",
              "  yield {\n",
              "    response: {\n",
              "      action: 'complete',\n",
              "    }\n",
              "  };\n",
              "}\n",
              "\n",
              "scope.google = scope.google || {};\n",
              "scope.google.colab = scope.google.colab || {};\n",
              "scope.google.colab._files = {\n",
              "  _uploadFiles,\n",
              "  _uploadFilesContinue,\n",
              "};\n",
              "})(self);\n",
              "</script> "
            ]
          },
          "metadata": {}
        },
        {
          "output_type": "stream",
          "name": "stdout",
          "text": [
            "Saving Emotion_classify_Data.csv to Emotion_classify_Data.csv\n"
          ]
        }
      ]
    },
    {
      "cell_type": "code",
      "source": [
        "# Load dataset\n",
        "df = pd.read_csv('/content/Emotion_classify_Data.csv')"
      ],
      "metadata": {
        "id": "L1Hpsr9ha9Jm"
      },
      "execution_count": 3,
      "outputs": []
    },
    {
      "cell_type": "markdown",
      "source": [
        "Pandas is used to load the dataset and begin the emotion categorization process. A CSV file called \"Emotion_classify_Data.csv\" is read into a Pandas DataFrame using the command `df = pd.read_csv('/content/Emotion_classify_Data.csv')}. The data will be organized in a tabular fashion in this DataFrame, which will be saved in the variable {df}. Each row of the data frame will represent a single data entry, and each column will represent a feature or attribute of the data, In this case Comment and Emotion. This stage is essential because it makes possible the further data processing, analysis, and setup needed to create and assess machine learning models (research.google, n.d.)."
      ],
      "metadata": {
        "id": "BZ-o_LCEld1V"
      }
    },
    {
      "cell_type": "markdown",
      "source": [
        "# **Step 3: Perform EDA**"
      ],
      "metadata": {
        "id": "wwxXzxuwa-J5"
      }
    },
    {
      "cell_type": "markdown",
      "source": [
        "Before modeling, a dataset must be understood and prepared using exploratory data analysis, or EDA. It assists in finding mistakes, investigating feature patterns, spotting anomalies, and verifying presumptions. EDA verifies the accuracy of the data and provides guidance for further analysis (paperswithcode.com, n.d.)\n"
      ],
      "metadata": {
        "id": "PXqo-eOkmHUa"
      }
    },
    {
      "cell_type": "code",
      "source": [
        "#see how data looks\n",
        "df.head()"
      ],
      "metadata": {
        "colab": {
          "base_uri": "https://localhost:8080/",
          "height": 206
        },
        "id": "v-US9TWU95sw",
        "outputId": "8c238ea2-27d5-4519-8d9d-2d475a8b5111"
      },
      "execution_count": 4,
      "outputs": [
        {
          "output_type": "execute_result",
          "data": {
            "text/plain": [
              "                                             Comment Emotion\n",
              "0  i seriously hate one subject to death but now ...    fear\n",
              "1                 im so full of life i feel appalled   anger\n",
              "2  i sit here to write i start to dig out my feel...    fear\n",
              "3  ive been really angry with r and i feel like a...     joy\n",
              "4  i feel suspicious if there is no one outside l...    fear"
            ],
            "text/html": [
              "\n",
              "  <div id=\"df-ba69023a-5b1e-414d-b6f6-3fce0b0ed291\" class=\"colab-df-container\">\n",
              "    <div>\n",
              "<style scoped>\n",
              "    .dataframe tbody tr th:only-of-type {\n",
              "        vertical-align: middle;\n",
              "    }\n",
              "\n",
              "    .dataframe tbody tr th {\n",
              "        vertical-align: top;\n",
              "    }\n",
              "\n",
              "    .dataframe thead th {\n",
              "        text-align: right;\n",
              "    }\n",
              "</style>\n",
              "<table border=\"1\" class=\"dataframe\">\n",
              "  <thead>\n",
              "    <tr style=\"text-align: right;\">\n",
              "      <th></th>\n",
              "      <th>Comment</th>\n",
              "      <th>Emotion</th>\n",
              "    </tr>\n",
              "  </thead>\n",
              "  <tbody>\n",
              "    <tr>\n",
              "      <th>0</th>\n",
              "      <td>i seriously hate one subject to death but now ...</td>\n",
              "      <td>fear</td>\n",
              "    </tr>\n",
              "    <tr>\n",
              "      <th>1</th>\n",
              "      <td>im so full of life i feel appalled</td>\n",
              "      <td>anger</td>\n",
              "    </tr>\n",
              "    <tr>\n",
              "      <th>2</th>\n",
              "      <td>i sit here to write i start to dig out my feel...</td>\n",
              "      <td>fear</td>\n",
              "    </tr>\n",
              "    <tr>\n",
              "      <th>3</th>\n",
              "      <td>ive been really angry with r and i feel like a...</td>\n",
              "      <td>joy</td>\n",
              "    </tr>\n",
              "    <tr>\n",
              "      <th>4</th>\n",
              "      <td>i feel suspicious if there is no one outside l...</td>\n",
              "      <td>fear</td>\n",
              "    </tr>\n",
              "  </tbody>\n",
              "</table>\n",
              "</div>\n",
              "    <div class=\"colab-df-buttons\">\n",
              "\n",
              "  <div class=\"colab-df-container\">\n",
              "    <button class=\"colab-df-convert\" onclick=\"convertToInteractive('df-ba69023a-5b1e-414d-b6f6-3fce0b0ed291')\"\n",
              "            title=\"Convert this dataframe to an interactive table.\"\n",
              "            style=\"display:none;\">\n",
              "\n",
              "  <svg xmlns=\"http://www.w3.org/2000/svg\" height=\"24px\" viewBox=\"0 -960 960 960\">\n",
              "    <path d=\"M120-120v-720h720v720H120Zm60-500h600v-160H180v160Zm220 220h160v-160H400v160Zm0 220h160v-160H400v160ZM180-400h160v-160H180v160Zm440 0h160v-160H620v160ZM180-180h160v-160H180v160Zm440 0h160v-160H620v160Z\"/>\n",
              "  </svg>\n",
              "    </button>\n",
              "\n",
              "  <style>\n",
              "    .colab-df-container {\n",
              "      display:flex;\n",
              "      gap: 12px;\n",
              "    }\n",
              "\n",
              "    .colab-df-convert {\n",
              "      background-color: #E8F0FE;\n",
              "      border: none;\n",
              "      border-radius: 50%;\n",
              "      cursor: pointer;\n",
              "      display: none;\n",
              "      fill: #1967D2;\n",
              "      height: 32px;\n",
              "      padding: 0 0 0 0;\n",
              "      width: 32px;\n",
              "    }\n",
              "\n",
              "    .colab-df-convert:hover {\n",
              "      background-color: #E2EBFA;\n",
              "      box-shadow: 0px 1px 2px rgba(60, 64, 67, 0.3), 0px 1px 3px 1px rgba(60, 64, 67, 0.15);\n",
              "      fill: #174EA6;\n",
              "    }\n",
              "\n",
              "    .colab-df-buttons div {\n",
              "      margin-bottom: 4px;\n",
              "    }\n",
              "\n",
              "    [theme=dark] .colab-df-convert {\n",
              "      background-color: #3B4455;\n",
              "      fill: #D2E3FC;\n",
              "    }\n",
              "\n",
              "    [theme=dark] .colab-df-convert:hover {\n",
              "      background-color: #434B5C;\n",
              "      box-shadow: 0px 1px 3px 1px rgba(0, 0, 0, 0.15);\n",
              "      filter: drop-shadow(0px 1px 2px rgba(0, 0, 0, 0.3));\n",
              "      fill: #FFFFFF;\n",
              "    }\n",
              "  </style>\n",
              "\n",
              "    <script>\n",
              "      const buttonEl =\n",
              "        document.querySelector('#df-ba69023a-5b1e-414d-b6f6-3fce0b0ed291 button.colab-df-convert');\n",
              "      buttonEl.style.display =\n",
              "        google.colab.kernel.accessAllowed ? 'block' : 'none';\n",
              "\n",
              "      async function convertToInteractive(key) {\n",
              "        const element = document.querySelector('#df-ba69023a-5b1e-414d-b6f6-3fce0b0ed291');\n",
              "        const dataTable =\n",
              "          await google.colab.kernel.invokeFunction('convertToInteractive',\n",
              "                                                    [key], {});\n",
              "        if (!dataTable) return;\n",
              "\n",
              "        const docLinkHtml = 'Like what you see? Visit the ' +\n",
              "          '<a target=\"_blank\" href=https://colab.research.google.com/notebooks/data_table.ipynb>data table notebook</a>'\n",
              "          + ' to learn more about interactive tables.';\n",
              "        element.innerHTML = '';\n",
              "        dataTable['output_type'] = 'display_data';\n",
              "        await google.colab.output.renderOutput(dataTable, element);\n",
              "        const docLink = document.createElement('div');\n",
              "        docLink.innerHTML = docLinkHtml;\n",
              "        element.appendChild(docLink);\n",
              "      }\n",
              "    </script>\n",
              "  </div>\n",
              "\n",
              "\n",
              "<div id=\"df-e4e2818b-f1a9-4c9f-8167-757cb3c531d3\">\n",
              "  <button class=\"colab-df-quickchart\" onclick=\"quickchart('df-e4e2818b-f1a9-4c9f-8167-757cb3c531d3')\"\n",
              "            title=\"Suggest charts\"\n",
              "            style=\"display:none;\">\n",
              "\n",
              "<svg xmlns=\"http://www.w3.org/2000/svg\" height=\"24px\"viewBox=\"0 0 24 24\"\n",
              "     width=\"24px\">\n",
              "    <g>\n",
              "        <path d=\"M19 3H5c-1.1 0-2 .9-2 2v14c0 1.1.9 2 2 2h14c1.1 0 2-.9 2-2V5c0-1.1-.9-2-2-2zM9 17H7v-7h2v7zm4 0h-2V7h2v10zm4 0h-2v-4h2v4z\"/>\n",
              "    </g>\n",
              "</svg>\n",
              "  </button>\n",
              "\n",
              "<style>\n",
              "  .colab-df-quickchart {\n",
              "      --bg-color: #E8F0FE;\n",
              "      --fill-color: #1967D2;\n",
              "      --hover-bg-color: #E2EBFA;\n",
              "      --hover-fill-color: #174EA6;\n",
              "      --disabled-fill-color: #AAA;\n",
              "      --disabled-bg-color: #DDD;\n",
              "  }\n",
              "\n",
              "  [theme=dark] .colab-df-quickchart {\n",
              "      --bg-color: #3B4455;\n",
              "      --fill-color: #D2E3FC;\n",
              "      --hover-bg-color: #434B5C;\n",
              "      --hover-fill-color: #FFFFFF;\n",
              "      --disabled-bg-color: #3B4455;\n",
              "      --disabled-fill-color: #666;\n",
              "  }\n",
              "\n",
              "  .colab-df-quickchart {\n",
              "    background-color: var(--bg-color);\n",
              "    border: none;\n",
              "    border-radius: 50%;\n",
              "    cursor: pointer;\n",
              "    display: none;\n",
              "    fill: var(--fill-color);\n",
              "    height: 32px;\n",
              "    padding: 0;\n",
              "    width: 32px;\n",
              "  }\n",
              "\n",
              "  .colab-df-quickchart:hover {\n",
              "    background-color: var(--hover-bg-color);\n",
              "    box-shadow: 0 1px 2px rgba(60, 64, 67, 0.3), 0 1px 3px 1px rgba(60, 64, 67, 0.15);\n",
              "    fill: var(--button-hover-fill-color);\n",
              "  }\n",
              "\n",
              "  .colab-df-quickchart-complete:disabled,\n",
              "  .colab-df-quickchart-complete:disabled:hover {\n",
              "    background-color: var(--disabled-bg-color);\n",
              "    fill: var(--disabled-fill-color);\n",
              "    box-shadow: none;\n",
              "  }\n",
              "\n",
              "  .colab-df-spinner {\n",
              "    border: 2px solid var(--fill-color);\n",
              "    border-color: transparent;\n",
              "    border-bottom-color: var(--fill-color);\n",
              "    animation:\n",
              "      spin 1s steps(1) infinite;\n",
              "  }\n",
              "\n",
              "  @keyframes spin {\n",
              "    0% {\n",
              "      border-color: transparent;\n",
              "      border-bottom-color: var(--fill-color);\n",
              "      border-left-color: var(--fill-color);\n",
              "    }\n",
              "    20% {\n",
              "      border-color: transparent;\n",
              "      border-left-color: var(--fill-color);\n",
              "      border-top-color: var(--fill-color);\n",
              "    }\n",
              "    30% {\n",
              "      border-color: transparent;\n",
              "      border-left-color: var(--fill-color);\n",
              "      border-top-color: var(--fill-color);\n",
              "      border-right-color: var(--fill-color);\n",
              "    }\n",
              "    40% {\n",
              "      border-color: transparent;\n",
              "      border-right-color: var(--fill-color);\n",
              "      border-top-color: var(--fill-color);\n",
              "    }\n",
              "    60% {\n",
              "      border-color: transparent;\n",
              "      border-right-color: var(--fill-color);\n",
              "    }\n",
              "    80% {\n",
              "      border-color: transparent;\n",
              "      border-right-color: var(--fill-color);\n",
              "      border-bottom-color: var(--fill-color);\n",
              "    }\n",
              "    90% {\n",
              "      border-color: transparent;\n",
              "      border-bottom-color: var(--fill-color);\n",
              "    }\n",
              "  }\n",
              "</style>\n",
              "\n",
              "  <script>\n",
              "    async function quickchart(key) {\n",
              "      const quickchartButtonEl =\n",
              "        document.querySelector('#' + key + ' button');\n",
              "      quickchartButtonEl.disabled = true;  // To prevent multiple clicks.\n",
              "      quickchartButtonEl.classList.add('colab-df-spinner');\n",
              "      try {\n",
              "        const charts = await google.colab.kernel.invokeFunction(\n",
              "            'suggestCharts', [key], {});\n",
              "      } catch (error) {\n",
              "        console.error('Error during call to suggestCharts:', error);\n",
              "      }\n",
              "      quickchartButtonEl.classList.remove('colab-df-spinner');\n",
              "      quickchartButtonEl.classList.add('colab-df-quickchart-complete');\n",
              "    }\n",
              "    (() => {\n",
              "      let quickchartButtonEl =\n",
              "        document.querySelector('#df-e4e2818b-f1a9-4c9f-8167-757cb3c531d3 button');\n",
              "      quickchartButtonEl.style.display =\n",
              "        google.colab.kernel.accessAllowed ? 'block' : 'none';\n",
              "    })();\n",
              "  </script>\n",
              "</div>\n",
              "\n",
              "    </div>\n",
              "  </div>\n"
            ],
            "application/vnd.google.colaboratory.intrinsic+json": {
              "type": "dataframe",
              "variable_name": "df",
              "summary": "{\n  \"name\": \"df\",\n  \"rows\": 5937,\n  \"fields\": [\n    {\n      \"column\": \"Comment\",\n      \"properties\": {\n        \"dtype\": \"string\",\n        \"num_unique_values\": 5934,\n        \"samples\": [\n          \"i male are stupid first for woman cry babies and should get over it and you feel really cool for putting the stupid men in their place\",\n          \"im feeling queezy and cant be bothered putting these in order so here goes\",\n          \"i feel completely agitated\"\n        ],\n        \"semantic_type\": \"\",\n        \"description\": \"\"\n      }\n    },\n    {\n      \"column\": \"Emotion\",\n      \"properties\": {\n        \"dtype\": \"category\",\n        \"num_unique_values\": 3,\n        \"samples\": [\n          \"fear\",\n          \"anger\",\n          \"joy\"\n        ],\n        \"semantic_type\": \"\",\n        \"description\": \"\"\n      }\n    }\n  ]\n}"
            }
          },
          "metadata": {},
          "execution_count": 4
        }
      ]
    },
    {
      "cell_type": "markdown",
      "source": [
        "We can rapidly examine the data and comprehend its structure thanks to the df.head() method, which is showing the first few rows of the Emotion Text dataset. It is showing text dataset with two columns of Comment and Emotion (paperswithcode.com, n.d.)"
      ],
      "metadata": {
        "id": "y_wA_i46mV_Z"
      }
    },
    {
      "cell_type": "code",
      "source": [
        "#Check the Data Type\n",
        "df.info()"
      ],
      "metadata": {
        "colab": {
          "base_uri": "https://localhost:8080/"
        },
        "id": "mVDtEV_E8ypW",
        "outputId": "9b70c97c-920d-4a90-dc05-a416dfeeaae9"
      },
      "execution_count": 5,
      "outputs": [
        {
          "output_type": "stream",
          "name": "stdout",
          "text": [
            "<class 'pandas.core.frame.DataFrame'>\n",
            "RangeIndex: 5937 entries, 0 to 5936\n",
            "Data columns (total 2 columns):\n",
            " #   Column   Non-Null Count  Dtype \n",
            "---  ------   --------------  ----- \n",
            " 0   Comment  5937 non-null   object\n",
            " 1   Emotion  5937 non-null   object\n",
            "dtypes: object(2)\n",
            "memory usage: 92.9+ KB\n"
          ]
        }
      ]
    },
    {
      "cell_type": "markdown",
      "source": [
        "There are 5,937 records in the loaded dataset, indexed from 0 to 5,936, with two columns labeled \"Comment\" and \"Emotion.\" There are non-null values in both columns, suggesting that the dataset is complete and contains no missing entries. Both columns' data types are objects, indicating that text data is present in them. The text samples are located in the \"Comment\" column, while the labels for each comment's associated emotion are found in the \"Emotion\" column. This whole dataset takes up about 92.9 KB of RAM. This structure works well for problems involving the textual classification of emotions, where the remarks are evaluated to predict the emotions that go along with them (research.google, n.d.)."
      ],
      "metadata": {
        "id": "Q8xJNAabo3w8"
      }
    },
    {
      "cell_type": "code",
      "source": [
        "# distribution and uniqueness of the data\n",
        "df.describe()"
      ],
      "metadata": {
        "colab": {
          "base_uri": "https://localhost:8080/",
          "height": 175
        },
        "id": "oCBopxbZ7a06",
        "outputId": "adc171e8-b71b-41f1-ab7d-6d368cff88bf"
      },
      "execution_count": 6,
      "outputs": [
        {
          "output_type": "execute_result",
          "data": {
            "text/plain": [
              "                                                 Comment Emotion\n",
              "count                                               5937    5937\n",
              "unique                                              5934       3\n",
              "top     i feel like a tortured artist when i talk to her   anger\n",
              "freq                                                   2    2000"
            ],
            "text/html": [
              "\n",
              "  <div id=\"df-f48cf734-469d-45da-8e4a-2387b1ad42ce\" class=\"colab-df-container\">\n",
              "    <div>\n",
              "<style scoped>\n",
              "    .dataframe tbody tr th:only-of-type {\n",
              "        vertical-align: middle;\n",
              "    }\n",
              "\n",
              "    .dataframe tbody tr th {\n",
              "        vertical-align: top;\n",
              "    }\n",
              "\n",
              "    .dataframe thead th {\n",
              "        text-align: right;\n",
              "    }\n",
              "</style>\n",
              "<table border=\"1\" class=\"dataframe\">\n",
              "  <thead>\n",
              "    <tr style=\"text-align: right;\">\n",
              "      <th></th>\n",
              "      <th>Comment</th>\n",
              "      <th>Emotion</th>\n",
              "    </tr>\n",
              "  </thead>\n",
              "  <tbody>\n",
              "    <tr>\n",
              "      <th>count</th>\n",
              "      <td>5937</td>\n",
              "      <td>5937</td>\n",
              "    </tr>\n",
              "    <tr>\n",
              "      <th>unique</th>\n",
              "      <td>5934</td>\n",
              "      <td>3</td>\n",
              "    </tr>\n",
              "    <tr>\n",
              "      <th>top</th>\n",
              "      <td>i feel like a tortured artist when i talk to her</td>\n",
              "      <td>anger</td>\n",
              "    </tr>\n",
              "    <tr>\n",
              "      <th>freq</th>\n",
              "      <td>2</td>\n",
              "      <td>2000</td>\n",
              "    </tr>\n",
              "  </tbody>\n",
              "</table>\n",
              "</div>\n",
              "    <div class=\"colab-df-buttons\">\n",
              "\n",
              "  <div class=\"colab-df-container\">\n",
              "    <button class=\"colab-df-convert\" onclick=\"convertToInteractive('df-f48cf734-469d-45da-8e4a-2387b1ad42ce')\"\n",
              "            title=\"Convert this dataframe to an interactive table.\"\n",
              "            style=\"display:none;\">\n",
              "\n",
              "  <svg xmlns=\"http://www.w3.org/2000/svg\" height=\"24px\" viewBox=\"0 -960 960 960\">\n",
              "    <path d=\"M120-120v-720h720v720H120Zm60-500h600v-160H180v160Zm220 220h160v-160H400v160Zm0 220h160v-160H400v160ZM180-400h160v-160H180v160Zm440 0h160v-160H620v160ZM180-180h160v-160H180v160Zm440 0h160v-160H620v160Z\"/>\n",
              "  </svg>\n",
              "    </button>\n",
              "\n",
              "  <style>\n",
              "    .colab-df-container {\n",
              "      display:flex;\n",
              "      gap: 12px;\n",
              "    }\n",
              "\n",
              "    .colab-df-convert {\n",
              "      background-color: #E8F0FE;\n",
              "      border: none;\n",
              "      border-radius: 50%;\n",
              "      cursor: pointer;\n",
              "      display: none;\n",
              "      fill: #1967D2;\n",
              "      height: 32px;\n",
              "      padding: 0 0 0 0;\n",
              "      width: 32px;\n",
              "    }\n",
              "\n",
              "    .colab-df-convert:hover {\n",
              "      background-color: #E2EBFA;\n",
              "      box-shadow: 0px 1px 2px rgba(60, 64, 67, 0.3), 0px 1px 3px 1px rgba(60, 64, 67, 0.15);\n",
              "      fill: #174EA6;\n",
              "    }\n",
              "\n",
              "    .colab-df-buttons div {\n",
              "      margin-bottom: 4px;\n",
              "    }\n",
              "\n",
              "    [theme=dark] .colab-df-convert {\n",
              "      background-color: #3B4455;\n",
              "      fill: #D2E3FC;\n",
              "    }\n",
              "\n",
              "    [theme=dark] .colab-df-convert:hover {\n",
              "      background-color: #434B5C;\n",
              "      box-shadow: 0px 1px 3px 1px rgba(0, 0, 0, 0.15);\n",
              "      filter: drop-shadow(0px 1px 2px rgba(0, 0, 0, 0.3));\n",
              "      fill: #FFFFFF;\n",
              "    }\n",
              "  </style>\n",
              "\n",
              "    <script>\n",
              "      const buttonEl =\n",
              "        document.querySelector('#df-f48cf734-469d-45da-8e4a-2387b1ad42ce button.colab-df-convert');\n",
              "      buttonEl.style.display =\n",
              "        google.colab.kernel.accessAllowed ? 'block' : 'none';\n",
              "\n",
              "      async function convertToInteractive(key) {\n",
              "        const element = document.querySelector('#df-f48cf734-469d-45da-8e4a-2387b1ad42ce');\n",
              "        const dataTable =\n",
              "          await google.colab.kernel.invokeFunction('convertToInteractive',\n",
              "                                                    [key], {});\n",
              "        if (!dataTable) return;\n",
              "\n",
              "        const docLinkHtml = 'Like what you see? Visit the ' +\n",
              "          '<a target=\"_blank\" href=https://colab.research.google.com/notebooks/data_table.ipynb>data table notebook</a>'\n",
              "          + ' to learn more about interactive tables.';\n",
              "        element.innerHTML = '';\n",
              "        dataTable['output_type'] = 'display_data';\n",
              "        await google.colab.output.renderOutput(dataTable, element);\n",
              "        const docLink = document.createElement('div');\n",
              "        docLink.innerHTML = docLinkHtml;\n",
              "        element.appendChild(docLink);\n",
              "      }\n",
              "    </script>\n",
              "  </div>\n",
              "\n",
              "\n",
              "<div id=\"df-bea69a76-50a8-409f-9f97-deef401e9292\">\n",
              "  <button class=\"colab-df-quickchart\" onclick=\"quickchart('df-bea69a76-50a8-409f-9f97-deef401e9292')\"\n",
              "            title=\"Suggest charts\"\n",
              "            style=\"display:none;\">\n",
              "\n",
              "<svg xmlns=\"http://www.w3.org/2000/svg\" height=\"24px\"viewBox=\"0 0 24 24\"\n",
              "     width=\"24px\">\n",
              "    <g>\n",
              "        <path d=\"M19 3H5c-1.1 0-2 .9-2 2v14c0 1.1.9 2 2 2h14c1.1 0 2-.9 2-2V5c0-1.1-.9-2-2-2zM9 17H7v-7h2v7zm4 0h-2V7h2v10zm4 0h-2v-4h2v4z\"/>\n",
              "    </g>\n",
              "</svg>\n",
              "  </button>\n",
              "\n",
              "<style>\n",
              "  .colab-df-quickchart {\n",
              "      --bg-color: #E8F0FE;\n",
              "      --fill-color: #1967D2;\n",
              "      --hover-bg-color: #E2EBFA;\n",
              "      --hover-fill-color: #174EA6;\n",
              "      --disabled-fill-color: #AAA;\n",
              "      --disabled-bg-color: #DDD;\n",
              "  }\n",
              "\n",
              "  [theme=dark] .colab-df-quickchart {\n",
              "      --bg-color: #3B4455;\n",
              "      --fill-color: #D2E3FC;\n",
              "      --hover-bg-color: #434B5C;\n",
              "      --hover-fill-color: #FFFFFF;\n",
              "      --disabled-bg-color: #3B4455;\n",
              "      --disabled-fill-color: #666;\n",
              "  }\n",
              "\n",
              "  .colab-df-quickchart {\n",
              "    background-color: var(--bg-color);\n",
              "    border: none;\n",
              "    border-radius: 50%;\n",
              "    cursor: pointer;\n",
              "    display: none;\n",
              "    fill: var(--fill-color);\n",
              "    height: 32px;\n",
              "    padding: 0;\n",
              "    width: 32px;\n",
              "  }\n",
              "\n",
              "  .colab-df-quickchart:hover {\n",
              "    background-color: var(--hover-bg-color);\n",
              "    box-shadow: 0 1px 2px rgba(60, 64, 67, 0.3), 0 1px 3px 1px rgba(60, 64, 67, 0.15);\n",
              "    fill: var(--button-hover-fill-color);\n",
              "  }\n",
              "\n",
              "  .colab-df-quickchart-complete:disabled,\n",
              "  .colab-df-quickchart-complete:disabled:hover {\n",
              "    background-color: var(--disabled-bg-color);\n",
              "    fill: var(--disabled-fill-color);\n",
              "    box-shadow: none;\n",
              "  }\n",
              "\n",
              "  .colab-df-spinner {\n",
              "    border: 2px solid var(--fill-color);\n",
              "    border-color: transparent;\n",
              "    border-bottom-color: var(--fill-color);\n",
              "    animation:\n",
              "      spin 1s steps(1) infinite;\n",
              "  }\n",
              "\n",
              "  @keyframes spin {\n",
              "    0% {\n",
              "      border-color: transparent;\n",
              "      border-bottom-color: var(--fill-color);\n",
              "      border-left-color: var(--fill-color);\n",
              "    }\n",
              "    20% {\n",
              "      border-color: transparent;\n",
              "      border-left-color: var(--fill-color);\n",
              "      border-top-color: var(--fill-color);\n",
              "    }\n",
              "    30% {\n",
              "      border-color: transparent;\n",
              "      border-left-color: var(--fill-color);\n",
              "      border-top-color: var(--fill-color);\n",
              "      border-right-color: var(--fill-color);\n",
              "    }\n",
              "    40% {\n",
              "      border-color: transparent;\n",
              "      border-right-color: var(--fill-color);\n",
              "      border-top-color: var(--fill-color);\n",
              "    }\n",
              "    60% {\n",
              "      border-color: transparent;\n",
              "      border-right-color: var(--fill-color);\n",
              "    }\n",
              "    80% {\n",
              "      border-color: transparent;\n",
              "      border-right-color: var(--fill-color);\n",
              "      border-bottom-color: var(--fill-color);\n",
              "    }\n",
              "    90% {\n",
              "      border-color: transparent;\n",
              "      border-bottom-color: var(--fill-color);\n",
              "    }\n",
              "  }\n",
              "</style>\n",
              "\n",
              "  <script>\n",
              "    async function quickchart(key) {\n",
              "      const quickchartButtonEl =\n",
              "        document.querySelector('#' + key + ' button');\n",
              "      quickchartButtonEl.disabled = true;  // To prevent multiple clicks.\n",
              "      quickchartButtonEl.classList.add('colab-df-spinner');\n",
              "      try {\n",
              "        const charts = await google.colab.kernel.invokeFunction(\n",
              "            'suggestCharts', [key], {});\n",
              "      } catch (error) {\n",
              "        console.error('Error during call to suggestCharts:', error);\n",
              "      }\n",
              "      quickchartButtonEl.classList.remove('colab-df-spinner');\n",
              "      quickchartButtonEl.classList.add('colab-df-quickchart-complete');\n",
              "    }\n",
              "    (() => {\n",
              "      let quickchartButtonEl =\n",
              "        document.querySelector('#df-bea69a76-50a8-409f-9f97-deef401e9292 button');\n",
              "      quickchartButtonEl.style.display =\n",
              "        google.colab.kernel.accessAllowed ? 'block' : 'none';\n",
              "    })();\n",
              "  </script>\n",
              "</div>\n",
              "\n",
              "    </div>\n",
              "  </div>\n"
            ],
            "application/vnd.google.colaboratory.intrinsic+json": {
              "type": "dataframe",
              "summary": "{\n  \"name\": \"df\",\n  \"rows\": 4,\n  \"fields\": [\n    {\n      \"column\": \"Comment\",\n      \"properties\": {\n        \"dtype\": \"string\",\n        \"num_unique_values\": 4,\n        \"samples\": [\n          5934,\n          \"2\",\n          \"5937\"\n        ],\n        \"semantic_type\": \"\",\n        \"description\": \"\"\n      }\n    },\n    {\n      \"column\": \"Emotion\",\n      \"properties\": {\n        \"dtype\": \"string\",\n        \"num_unique_values\": 4,\n        \"samples\": [\n          3,\n          \"2000\",\n          \"5937\"\n        ],\n        \"semantic_type\": \"\",\n        \"description\": \"\"\n      }\n    }\n  ]\n}"
            }
          },
          "metadata": {},
          "execution_count": 6
        }
      ]
    },
    {
      "cell_type": "markdown",
      "source": [
        "5,937 comments and the related emotion categories are included in the dataset. There are 3,944 duplicate comments out of 5,934 unique comments. There are three distinct emotion types in the \"Emotion\" column. The most commonly occurring statement is \"I feel like a tortured artist when I talk to her,\" which occurs twice. The most commonly occurring emotion label is \"anger,\" which occurs 2,000 times. Given that \"anger\" is the most common category in the sample, this suggests a possible class imbalance. To ensure that the model can successfully learn to categorize all emotion categories, preprocessing and understanding the distribution and uniqueness of the data are essential (paperswithcode.com, n.d.)."
      ],
      "metadata": {
        "id": "kEhWxFEOqAUs"
      }
    },
    {
      "cell_type": "code",
      "source": [
        "# Checking entries and attributes of dataset\n",
        "df.shape"
      ],
      "metadata": {
        "colab": {
          "base_uri": "https://localhost:8080/"
        },
        "id": "ELuU73IsNkVv",
        "outputId": "a017c814-7093-4c36-e032-c51ebe7c99f7"
      },
      "execution_count": 7,
      "outputs": [
        {
          "output_type": "execute_result",
          "data": {
            "text/plain": [
              "(5937, 2)"
            ]
          },
          "metadata": {},
          "execution_count": 7
        }
      ]
    },
    {
      "cell_type": "markdown",
      "source": [
        "There are 2, columns and 5,937 rows in the DataFrame {df}, according to the result {(5937, 2)} from {df.shape}. In other words, there are 5,937 entries in the dataset, and each entry has two attributes: \"Comment\" and \"Emotion.\" This form verifies the dataset's dimensions and demonstrates that all of the original entries are still present despite the dataset's lack of modification. Successful duplicate elimination would be shown by a change in shape after duplicates are eliminated. Before any data preparation operations are carried out, it is imperative to comprehend the size and structure of the dataset using this shape information."
      ],
      "metadata": {
        "id": "E7f67W64tde7"
      }
    },
    {
      "cell_type": "code",
      "source": [
        "# Update and remove duplicate rows\n",
        "df.drop_duplicates(inplace=True)"
      ],
      "metadata": {
        "id": "SZFlhRDXwVFe"
      },
      "execution_count": 8,
      "outputs": []
    },
    {
      "cell_type": "markdown",
      "source": [
        "The DataFrame {df} is updated and duplicate rows are removed using the command df.drop_duplicates(inplace=True)}. This implies that there will be no need to allocate the result to a new DataFrame because any duplicate rows with identical values in every column will be eliminated straight from {df{. By ensuring that the modifications are applied directly to the original DataFrame, the inplace=True} argument makes the process simpler and more memory-efficient. Following this operation, unique rows will be included in the DataFrame {df} (www.bing.com, 2022)."
      ],
      "metadata": {
        "id": "EMa2eLzBq4ew"
      }
    },
    {
      "cell_type": "code",
      "source": [
        "# Checking missing values\n",
        "df.isna().sum()"
      ],
      "metadata": {
        "id": "Gt7RRty8bKIe",
        "colab": {
          "base_uri": "https://localhost:8080/"
        },
        "outputId": "7ed155f8-8471-4d25-bd50-7dea2ed8fc96"
      },
      "execution_count": 9,
      "outputs": [
        {
          "output_type": "execute_result",
          "data": {
            "text/plain": [
              "Comment    0\n",
              "Emotion    0\n",
              "dtype: int64"
            ]
          },
          "metadata": {},
          "execution_count": 9
        }
      ]
    },
    {
      "cell_type": "markdown",
      "source": [
        "The outcome of `df.isnull().sum()} is shown by the output {Comment 0 Emotion 0 dtype: int64}. It shows that the DataFrame {df} in both the \"Comment\" and \"Emotion\" columns has no missing data (null values). In particular, the count of null values found is indicated by the numerals 0 under each column name. To ensure that all data entries are complete and prepared for analysis or modeling, this information is essential for preprocessing and data integrity procedures. The dataset can be used directly for training machine learning models without the need for imputation or managing cases involving missing data because it contains no missing values (www.bing.com, 2022)."
      ],
      "metadata": {
        "id": "tuoAR9fZyBXe"
      }
    },
    {
      "cell_type": "code",
      "source": [
        "# Replacing Emotion with numerical values\n",
        "df['Emotion'].replace(['anger', 'fear','joy'], [0,1,2], inplace =True )"
      ],
      "metadata": {
        "id": "cbLZJ6NewQVt"
      },
      "execution_count": 10,
      "outputs": []
    },
    {
      "cell_type": "markdown",
      "source": [
        "The \"Emotion\" column in the DataFrame {df} is changed using the code {df['Emotion'].replace(['anger', 'fear', 'joy'], [0, 1, 2], inplace=True)}. In particular, it immediately modifies the original DataFrame by substituting appropriate numerical values ([0, 1, 2]) for the category emotion labels ('anger,' 'fear,' and 'joy'). For machine learning applications, where algorithms usually operate with numerical inputs instead of categorical labels, this translation is advantageous (GeeksforGeeks, 2024). Through the process of assigning number values to emotions—for example, 0 denotes anger, 1 fear, and 2 joy—the DataFrame becomes ready for training models that need access to numerical data. This enables interoperability with a variety of machine learning techniques that require numerical inputs and streamlines the encoding of categorical variables (GeeksforGeeks, 2024)."
      ],
      "metadata": {
        "id": "bfhgm1qV5N_V"
      }
    },
    {
      "cell_type": "code",
      "source": [
        "# first few rows of the DataFrame showing emotion in numerical values\n",
        "df.head()"
      ],
      "metadata": {
        "colab": {
          "base_uri": "https://localhost:8080/",
          "height": 206
        },
        "id": "3Uc2VQatuc3u",
        "outputId": "37d55086-1f76-487a-9bcc-05b6efe4ca7e"
      },
      "execution_count": 11,
      "outputs": [
        {
          "output_type": "execute_result",
          "data": {
            "text/plain": [
              "                                             Comment  Emotion\n",
              "0  i seriously hate one subject to death but now ...        1\n",
              "1                 im so full of life i feel appalled        0\n",
              "2  i sit here to write i start to dig out my feel...        1\n",
              "3  ive been really angry with r and i feel like a...        2\n",
              "4  i feel suspicious if there is no one outside l...        1"
            ],
            "text/html": [
              "\n",
              "  <div id=\"df-6ca6d2a9-c1c4-4d2b-a895-330edbab6998\" class=\"colab-df-container\">\n",
              "    <div>\n",
              "<style scoped>\n",
              "    .dataframe tbody tr th:only-of-type {\n",
              "        vertical-align: middle;\n",
              "    }\n",
              "\n",
              "    .dataframe tbody tr th {\n",
              "        vertical-align: top;\n",
              "    }\n",
              "\n",
              "    .dataframe thead th {\n",
              "        text-align: right;\n",
              "    }\n",
              "</style>\n",
              "<table border=\"1\" class=\"dataframe\">\n",
              "  <thead>\n",
              "    <tr style=\"text-align: right;\">\n",
              "      <th></th>\n",
              "      <th>Comment</th>\n",
              "      <th>Emotion</th>\n",
              "    </tr>\n",
              "  </thead>\n",
              "  <tbody>\n",
              "    <tr>\n",
              "      <th>0</th>\n",
              "      <td>i seriously hate one subject to death but now ...</td>\n",
              "      <td>1</td>\n",
              "    </tr>\n",
              "    <tr>\n",
              "      <th>1</th>\n",
              "      <td>im so full of life i feel appalled</td>\n",
              "      <td>0</td>\n",
              "    </tr>\n",
              "    <tr>\n",
              "      <th>2</th>\n",
              "      <td>i sit here to write i start to dig out my feel...</td>\n",
              "      <td>1</td>\n",
              "    </tr>\n",
              "    <tr>\n",
              "      <th>3</th>\n",
              "      <td>ive been really angry with r and i feel like a...</td>\n",
              "      <td>2</td>\n",
              "    </tr>\n",
              "    <tr>\n",
              "      <th>4</th>\n",
              "      <td>i feel suspicious if there is no one outside l...</td>\n",
              "      <td>1</td>\n",
              "    </tr>\n",
              "  </tbody>\n",
              "</table>\n",
              "</div>\n",
              "    <div class=\"colab-df-buttons\">\n",
              "\n",
              "  <div class=\"colab-df-container\">\n",
              "    <button class=\"colab-df-convert\" onclick=\"convertToInteractive('df-6ca6d2a9-c1c4-4d2b-a895-330edbab6998')\"\n",
              "            title=\"Convert this dataframe to an interactive table.\"\n",
              "            style=\"display:none;\">\n",
              "\n",
              "  <svg xmlns=\"http://www.w3.org/2000/svg\" height=\"24px\" viewBox=\"0 -960 960 960\">\n",
              "    <path d=\"M120-120v-720h720v720H120Zm60-500h600v-160H180v160Zm220 220h160v-160H400v160Zm0 220h160v-160H400v160ZM180-400h160v-160H180v160Zm440 0h160v-160H620v160ZM180-180h160v-160H180v160Zm440 0h160v-160H620v160Z\"/>\n",
              "  </svg>\n",
              "    </button>\n",
              "\n",
              "  <style>\n",
              "    .colab-df-container {\n",
              "      display:flex;\n",
              "      gap: 12px;\n",
              "    }\n",
              "\n",
              "    .colab-df-convert {\n",
              "      background-color: #E8F0FE;\n",
              "      border: none;\n",
              "      border-radius: 50%;\n",
              "      cursor: pointer;\n",
              "      display: none;\n",
              "      fill: #1967D2;\n",
              "      height: 32px;\n",
              "      padding: 0 0 0 0;\n",
              "      width: 32px;\n",
              "    }\n",
              "\n",
              "    .colab-df-convert:hover {\n",
              "      background-color: #E2EBFA;\n",
              "      box-shadow: 0px 1px 2px rgba(60, 64, 67, 0.3), 0px 1px 3px 1px rgba(60, 64, 67, 0.15);\n",
              "      fill: #174EA6;\n",
              "    }\n",
              "\n",
              "    .colab-df-buttons div {\n",
              "      margin-bottom: 4px;\n",
              "    }\n",
              "\n",
              "    [theme=dark] .colab-df-convert {\n",
              "      background-color: #3B4455;\n",
              "      fill: #D2E3FC;\n",
              "    }\n",
              "\n",
              "    [theme=dark] .colab-df-convert:hover {\n",
              "      background-color: #434B5C;\n",
              "      box-shadow: 0px 1px 3px 1px rgba(0, 0, 0, 0.15);\n",
              "      filter: drop-shadow(0px 1px 2px rgba(0, 0, 0, 0.3));\n",
              "      fill: #FFFFFF;\n",
              "    }\n",
              "  </style>\n",
              "\n",
              "    <script>\n",
              "      const buttonEl =\n",
              "        document.querySelector('#df-6ca6d2a9-c1c4-4d2b-a895-330edbab6998 button.colab-df-convert');\n",
              "      buttonEl.style.display =\n",
              "        google.colab.kernel.accessAllowed ? 'block' : 'none';\n",
              "\n",
              "      async function convertToInteractive(key) {\n",
              "        const element = document.querySelector('#df-6ca6d2a9-c1c4-4d2b-a895-330edbab6998');\n",
              "        const dataTable =\n",
              "          await google.colab.kernel.invokeFunction('convertToInteractive',\n",
              "                                                    [key], {});\n",
              "        if (!dataTable) return;\n",
              "\n",
              "        const docLinkHtml = 'Like what you see? Visit the ' +\n",
              "          '<a target=\"_blank\" href=https://colab.research.google.com/notebooks/data_table.ipynb>data table notebook</a>'\n",
              "          + ' to learn more about interactive tables.';\n",
              "        element.innerHTML = '';\n",
              "        dataTable['output_type'] = 'display_data';\n",
              "        await google.colab.output.renderOutput(dataTable, element);\n",
              "        const docLink = document.createElement('div');\n",
              "        docLink.innerHTML = docLinkHtml;\n",
              "        element.appendChild(docLink);\n",
              "      }\n",
              "    </script>\n",
              "  </div>\n",
              "\n",
              "\n",
              "<div id=\"df-7b3349d4-3e48-4b2a-a6f6-2bd4819fa723\">\n",
              "  <button class=\"colab-df-quickchart\" onclick=\"quickchart('df-7b3349d4-3e48-4b2a-a6f6-2bd4819fa723')\"\n",
              "            title=\"Suggest charts\"\n",
              "            style=\"display:none;\">\n",
              "\n",
              "<svg xmlns=\"http://www.w3.org/2000/svg\" height=\"24px\"viewBox=\"0 0 24 24\"\n",
              "     width=\"24px\">\n",
              "    <g>\n",
              "        <path d=\"M19 3H5c-1.1 0-2 .9-2 2v14c0 1.1.9 2 2 2h14c1.1 0 2-.9 2-2V5c0-1.1-.9-2-2-2zM9 17H7v-7h2v7zm4 0h-2V7h2v10zm4 0h-2v-4h2v4z\"/>\n",
              "    </g>\n",
              "</svg>\n",
              "  </button>\n",
              "\n",
              "<style>\n",
              "  .colab-df-quickchart {\n",
              "      --bg-color: #E8F0FE;\n",
              "      --fill-color: #1967D2;\n",
              "      --hover-bg-color: #E2EBFA;\n",
              "      --hover-fill-color: #174EA6;\n",
              "      --disabled-fill-color: #AAA;\n",
              "      --disabled-bg-color: #DDD;\n",
              "  }\n",
              "\n",
              "  [theme=dark] .colab-df-quickchart {\n",
              "      --bg-color: #3B4455;\n",
              "      --fill-color: #D2E3FC;\n",
              "      --hover-bg-color: #434B5C;\n",
              "      --hover-fill-color: #FFFFFF;\n",
              "      --disabled-bg-color: #3B4455;\n",
              "      --disabled-fill-color: #666;\n",
              "  }\n",
              "\n",
              "  .colab-df-quickchart {\n",
              "    background-color: var(--bg-color);\n",
              "    border: none;\n",
              "    border-radius: 50%;\n",
              "    cursor: pointer;\n",
              "    display: none;\n",
              "    fill: var(--fill-color);\n",
              "    height: 32px;\n",
              "    padding: 0;\n",
              "    width: 32px;\n",
              "  }\n",
              "\n",
              "  .colab-df-quickchart:hover {\n",
              "    background-color: var(--hover-bg-color);\n",
              "    box-shadow: 0 1px 2px rgba(60, 64, 67, 0.3), 0 1px 3px 1px rgba(60, 64, 67, 0.15);\n",
              "    fill: var(--button-hover-fill-color);\n",
              "  }\n",
              "\n",
              "  .colab-df-quickchart-complete:disabled,\n",
              "  .colab-df-quickchart-complete:disabled:hover {\n",
              "    background-color: var(--disabled-bg-color);\n",
              "    fill: var(--disabled-fill-color);\n",
              "    box-shadow: none;\n",
              "  }\n",
              "\n",
              "  .colab-df-spinner {\n",
              "    border: 2px solid var(--fill-color);\n",
              "    border-color: transparent;\n",
              "    border-bottom-color: var(--fill-color);\n",
              "    animation:\n",
              "      spin 1s steps(1) infinite;\n",
              "  }\n",
              "\n",
              "  @keyframes spin {\n",
              "    0% {\n",
              "      border-color: transparent;\n",
              "      border-bottom-color: var(--fill-color);\n",
              "      border-left-color: var(--fill-color);\n",
              "    }\n",
              "    20% {\n",
              "      border-color: transparent;\n",
              "      border-left-color: var(--fill-color);\n",
              "      border-top-color: var(--fill-color);\n",
              "    }\n",
              "    30% {\n",
              "      border-color: transparent;\n",
              "      border-left-color: var(--fill-color);\n",
              "      border-top-color: var(--fill-color);\n",
              "      border-right-color: var(--fill-color);\n",
              "    }\n",
              "    40% {\n",
              "      border-color: transparent;\n",
              "      border-right-color: var(--fill-color);\n",
              "      border-top-color: var(--fill-color);\n",
              "    }\n",
              "    60% {\n",
              "      border-color: transparent;\n",
              "      border-right-color: var(--fill-color);\n",
              "    }\n",
              "    80% {\n",
              "      border-color: transparent;\n",
              "      border-right-color: var(--fill-color);\n",
              "      border-bottom-color: var(--fill-color);\n",
              "    }\n",
              "    90% {\n",
              "      border-color: transparent;\n",
              "      border-bottom-color: var(--fill-color);\n",
              "    }\n",
              "  }\n",
              "</style>\n",
              "\n",
              "  <script>\n",
              "    async function quickchart(key) {\n",
              "      const quickchartButtonEl =\n",
              "        document.querySelector('#' + key + ' button');\n",
              "      quickchartButtonEl.disabled = true;  // To prevent multiple clicks.\n",
              "      quickchartButtonEl.classList.add('colab-df-spinner');\n",
              "      try {\n",
              "        const charts = await google.colab.kernel.invokeFunction(\n",
              "            'suggestCharts', [key], {});\n",
              "      } catch (error) {\n",
              "        console.error('Error during call to suggestCharts:', error);\n",
              "      }\n",
              "      quickchartButtonEl.classList.remove('colab-df-spinner');\n",
              "      quickchartButtonEl.classList.add('colab-df-quickchart-complete');\n",
              "    }\n",
              "    (() => {\n",
              "      let quickchartButtonEl =\n",
              "        document.querySelector('#df-7b3349d4-3e48-4b2a-a6f6-2bd4819fa723 button');\n",
              "      quickchartButtonEl.style.display =\n",
              "        google.colab.kernel.accessAllowed ? 'block' : 'none';\n",
              "    })();\n",
              "  </script>\n",
              "</div>\n",
              "\n",
              "    </div>\n",
              "  </div>\n"
            ],
            "application/vnd.google.colaboratory.intrinsic+json": {
              "type": "dataframe",
              "variable_name": "df",
              "summary": "{\n  \"name\": \"df\",\n  \"rows\": 5937,\n  \"fields\": [\n    {\n      \"column\": \"Comment\",\n      \"properties\": {\n        \"dtype\": \"string\",\n        \"num_unique_values\": 5934,\n        \"samples\": [\n          \"i male are stupid first for woman cry babies and should get over it and you feel really cool for putting the stupid men in their place\",\n          \"im feeling queezy and cant be bothered putting these in order so here goes\",\n          \"i feel completely agitated\"\n        ],\n        \"semantic_type\": \"\",\n        \"description\": \"\"\n      }\n    },\n    {\n      \"column\": \"Emotion\",\n      \"properties\": {\n        \"dtype\": \"number\",\n        \"std\": 0,\n        \"min\": 0,\n        \"max\": 2,\n        \"num_unique_values\": 3,\n        \"samples\": [\n          1,\n          0,\n          2\n        ],\n        \"semantic_type\": \"\",\n        \"description\": \"\"\n      }\n    }\n  ]\n}"
            }
          },
          "metadata": {},
          "execution_count": 11
        }
      ]
    },
    {
      "cell_type": "markdown",
      "source": [
        "The `df.head()} function shows the first few rows of the DataFrame {df{, giving an overview of its structure and content. In this particular output, we see the first five rows, where each row is composed of two columns: \"Comment\" and \"Emotion\". The \"Comment\" column contains text entries that convey different emotions, while the \"Emotion\" column shows numerical representations of these emotions following a transformation (e.g., '1' represents 'fear,'0' represents 'anger, and '2' represents 'joy' based on the preceding transformation). This quick evaluation of the data's format and content is crucial for additional analysis, preprocessing, and model building tasks in the field of emotion classification (GeeksforGeeks, 2024)."
      ],
      "metadata": {
        "id": "0Pvc6KP0_5V9"
      }
    },
    {
      "cell_type": "code",
      "source": [
        "# Check the distribution of Emotion\n",
        "df['Emotion'].value_counts()"
      ],
      "metadata": {
        "colab": {
          "base_uri": "https://localhost:8080/"
        },
        "id": "-8fGVtf1HVeL",
        "outputId": "f6f9b0f4-e35c-48be-9164-64f888708ad5"
      },
      "execution_count": 12,
      "outputs": [
        {
          "output_type": "execute_result",
          "data": {
            "text/plain": [
              "Emotion\n",
              "0    2000\n",
              "2    2000\n",
              "1    1937\n",
              "Name: count, dtype: int64"
            ]
          },
          "metadata": {},
          "execution_count": 12
        }
      ]
    },
    {
      "cell_type": "markdown",
      "source": [
        "The output {Emotion 0: 2000, 2: 2000, 1: 1937, Name: count, dtype: int64} shows how many times each distinct emotion category appeared in the \"Emotion\" column of the DataFrame. In particular, the feeling 'anger' is represented by the 2,000 items with the label '0'. In a similar vein, 1,937 entries are classified as \"1,\" denoting fear, while 2,000 entries are labeled as \"2,\" denoting joy. An analysis of the dataset's emotion distribution shows possible class disparities, with 'joy' and 'anger' being equally represented but 'fear' occurs somewhat less frequently. Comprehending these distributions is essential for evaluating the balance of the dataset and can impact preprocessing techniques or model training methods to effectively manage class imbalance in emotion classification assignments  (GeeksforGeeks, 2024)."
      ],
      "metadata": {
        "id": "JvzqnDkTAvBH"
      }
    },
    {
      "cell_type": "code",
      "source": [
        "#Plot a graph\n",
        "sns.countplot(x = df['Emotion'])"
      ],
      "metadata": {
        "colab": {
          "base_uri": "https://localhost:8080/",
          "height": 467
        },
        "id": "vR41dG6wylHo",
        "outputId": "0800deee-1d78-4dca-d35d-65742c0604f5"
      },
      "execution_count": 14,
      "outputs": [
        {
          "output_type": "execute_result",
          "data": {
            "text/plain": [
              "<Axes: xlabel='Emotion', ylabel='count'>"
            ]
          },
          "metadata": {},
          "execution_count": 14
        },
        {
          "output_type": "display_data",
          "data": {
            "text/plain": [
              "<Figure size 640x480 with 1 Axes>"
            ],
            "image/png": "[encoded data removed]"
          },
          "metadata": {}
        }
      ]
    },
    {
      "cell_type": "markdown",
      "source": [
        "The code sns.countplot(x=df['Emotion']) generates a count plot using Seaborn, which visualizes the distribution of categorical data in the \"Emotion\" column of the DataFrame df.\n",
        "\n",
        "In this plot:\n",
        "The x-axis represents the unique categories of emotions ('0' for anger, '1' for fear, '2' for joy).\n",
        "The y-axis shows the count of occurrences for each emotion category. , the feeling 'anger' is represented by the 2,000 items with the label '0'. In a similar vein, 1,937 entries are classified as \"1,\" denoting fear, while 2,000 entries are labeled as \"2,\" denoting joy (GeeksforGeeks, 2024)."
      ],
      "metadata": {
        "id": "pFjkyyN3CYIz"
      }
    },
    {
      "cell_type": "markdown",
      "source": [
        "# **STEP 3: Text Processing**"
      ],
      "metadata": {
        "id": "sYIIkMlCytFP"
      }
    },
    {
      "cell_type": "code",
      "source": [
        "# Defining X and Y\n",
        "X = df.drop('Emotion', axis=1)\n",
        "Y = df['Emotion']"
      ],
      "metadata": {
        "id": "kYHVtOEJM7cC"
      },
      "execution_count": 15,
      "outputs": []
    },
    {
      "cell_type": "markdown",
      "source": [
        "\n",
        "- `X = df.drop('Emotion', axis=1)` creates a DataFrame `X` containing all columns except 'Emotion', preparing features for machine learning.\n",
        "- `y = df['Emotion']` assigns the 'Emotion' column to `y`, representing the target variable or labels for prediction. Together, `X` and `y` split the dataset into predictors and target values, essential for training and evaluating machine learning models (www.bing.com, 2022)."
      ],
      "metadata": {
        "id": "Vs08_8itMXuW"
      }
    },
    {
      "cell_type": "markdown",
      "source": [
        "**Import Sring and Apply remove punctuation**"
      ],
      "metadata": {
        "id": "xCB3P1RgqP5A"
      }
    },
    {
      "cell_type": "code",
      "source": [
        "# Importing the string module\n",
        "import string\n",
        "string.punctuation\n",
        "\n",
        "# defining the function to remove punctuation\n",
        "def remove_punctuation(text):\n",
        "    X_remove_punctuation=\"\".join([i for i in text if i not in string.punctuation])\n",
        "    return X_remove_punctuation\n",
        "\n",
        "# Applying remove punctuation to the 'Comment' column (assuming 'Comment' is the column you want to process)\n",
        "X_remove_punctuation = X['Comment'].apply(lambda x: remove_punctuation(x))\n",
        "# Displaying the first few rows of the processed column\n",
        "X_remove_punctuation.head()"
      ],
      "metadata": {
        "colab": {
          "base_uri": "https://localhost:8080/"
        },
        "id": "xT2w_P4Sbf1X",
        "outputId": "4bff8067-e2e8-410a-a962-6208ce8731eb"
      },
      "execution_count": 16,
      "outputs": [
        {
          "output_type": "execute_result",
          "data": {
            "text/plain": [
              "0    i seriously hate one subject to death but now ...\n",
              "1                   im so full of life i feel appalled\n",
              "2    i sit here to write i start to dig out my feel...\n",
              "3    ive been really angry with r and i feel like a...\n",
              "4    i feel suspicious if there is no one outside l...\n",
              "Name: Comment, dtype: object"
            ]
          },
          "metadata": {},
          "execution_count": 16
        }
      ]
    },
    {
      "cell_type": "markdown",
      "source": [
        "Removing punctuation is a critical step in text preprocessing for natural language processing (NLP) tasks, as it helps to clean and standardize the textual input. Particularly in tasks like sentiment analysis or emotion categorization, punctuation marks frequently generate noise into the study and do not add valuable information. We can facilitate tokenization and additional processing by simplifying the text by removing punctuation. By ensuring that the machine learning model concentrates on the words and their semantic substance rather than on unimportant symbols, this phase helps the model become more adept at learning meaningful patterns and offers increased accuracy and performance. This particular chunk of code defines the `remove_punctuation` function, which is used to clean up the text data in the 'Comment' column by removing all punctuation.(Analytics Vidhya, 2021)."
      ],
      "metadata": {
        "id": "Gm-OdZolRkUE"
      }
    },
    {
      "cell_type": "markdown",
      "source": [
        "**Converting to Lowercase**"
      ],
      "metadata": {
        "id": "FUF9meFCqiTI"
      }
    },
    {
      "cell_type": "code",
      "source": [
        "# Converting to lower case\n",
        "X_lowered = X_remove_punctuation.apply(lambda x: x.lower())\n",
        "X_lowered.head(5)"
      ],
      "metadata": {
        "colab": {
          "base_uri": "https://localhost:8080/"
        },
        "id": "1yg-JoTWQzha",
        "outputId": "343b047b-0043-4142-bc17-4cf7275e9039"
      },
      "execution_count": 17,
      "outputs": [
        {
          "output_type": "execute_result",
          "data": {
            "text/plain": [
              "0    i seriously hate one subject to death but now ...\n",
              "1                   im so full of life i feel appalled\n",
              "2    i sit here to write i start to dig out my feel...\n",
              "3    ive been really angry with r and i feel like a...\n",
              "4    i feel suspicious if there is no one outside l...\n",
              "Name: Comment, dtype: object"
            ]
          },
          "metadata": {},
          "execution_count": 17
        }
      ]
    },
    {
      "cell_type": "markdown",
      "source": [
        "A common method used in text preprocessing to guarantee consistency is to transform all characters to lowercase. This stage aids in removing inconsistent results from case sensitivity, as the model would handle terms like \"Happy\" and \"happy\" differently if they weren't transformed to the same case. We can simplify the text processing stages and improve the performance of the machine learning algorithms by reducing the vocabulary size by transforming the text to lowercase (Analytics Vidhya, 2021).\n",
        "\n",
        " All text in the `X_remove_punctuation} series is converted to lowercase using the `apply(lambda x: x.lower())` method; the first five rows of the resulting `X_lowered} series are shown. In order to improve accuracy and consistency of the analysis, it is imperative that this step be taken to guarantee that the model handles words with the same meaning similarly (Analytics Vidhya, 2021)."
      ],
      "metadata": {
        "id": "Fw0_o8JsTt-n"
      }
    },
    {
      "cell_type": "markdown",
      "source": [
        "**Applying Tokenization**"
      ],
      "metadata": {
        "id": "mSr5KxjZq62j"
      }
    },
    {
      "cell_type": "code",
      "source": [
        "# Define a function to tokenize text\n",
        "def tokenize(text):\n",
        "    for x in text:\n",
        "        tokens = text.split()\n",
        "    return tokens\n",
        "\n",
        "# Applying tokenization to the 'Comment' column\n",
        "tokens = X_lowered.apply(lambda x: tokenize(x))"
      ],
      "metadata": {
        "id": "pDEWI9aOcxga"
      },
      "execution_count": 18,
      "outputs": []
    },
    {
      "cell_type": "markdown",
      "source": [
        "Tokenization is the process of dividing a text into smaller parts called tokens, which are usually words or sentences. Because it divides an unending stream of text into digestible portions that machine learning models can evaluate and interpret, this phase is essential to text preprocessing for natural language processing (NLP) applications. For tasks like text categorization, sentiment analysis, and emotion identification, we allow the model to comprehend and interpret each word independently by dividing the text into tokens (research.google, n.d.).\n",
        "\n",
        "The tokenize function in this particular code  is defined to use the split() method to break text into discrete words, or tokens. After that, a series of tokenized text is produced by applying this function to the X_lowered series, which comprises the cleaned and lowercased text. This stage is crucial because it sets up the data for subsequent analysis, which is needed to train successful NLP models. Examples of this analysis include vectorization and feature extraction. Tokenization enhances the model's capacity to learn from the data and aids in capturing the text's semantic meaning (research.google, n.d.)."
      ],
      "metadata": {
        "id": "e_-52kbUZLVx"
      }
    },
    {
      "cell_type": "code",
      "source": [
        "tokens.head()"
      ],
      "metadata": {
        "colab": {
          "base_uri": "https://localhost:8080/"
        },
        "id": "mdG6Zltaf2-_",
        "outputId": "ae706456-d1f8-4921-ef51-19ac0b49c270"
      },
      "execution_count": 19,
      "outputs": [
        {
          "output_type": "execute_result",
          "data": {
            "text/plain": [
              "0    [i, seriously, hate, one, subject, to, death, ...\n",
              "1          [im, so, full, of, life, i, feel, appalled]\n",
              "2    [i, sit, here, to, write, i, start, to, dig, o...\n",
              "3    [ive, been, really, angry, with, r, and, i, fe...\n",
              "4    [i, feel, suspicious, if, there, is, no, one, ...\n",
              "Name: Comment, dtype: object"
            ]
          },
          "metadata": {},
          "execution_count": 19
        }
      ]
    },
    {
      "cell_type": "markdown",
      "source": [
        "tokens.head() command then displays the initial rows of DataFrame tokens to verify the successful tokenization of text messages, ensuring the data is ready for further analysis or model training (Analytics Vidhya, 2021)."
      ],
      "metadata": {
        "id": "dj129dWOdA-E"
      }
    },
    {
      "cell_type": "code",
      "source": [
        "import nltk\n",
        "nltk.download('stopwords')\n",
        "nltk.download('punkt')\n",
        "nltk.download('wordnet')"
      ],
      "metadata": {
        "colab": {
          "base_uri": "https://localhost:8080/"
        },
        "id": "w4VGX4y8rljx",
        "outputId": "89b7e097-3121-4a5e-93b3-e685d0244856"
      },
      "execution_count": 20,
      "outputs": [
        {
          "output_type": "stream",
          "name": "stderr",
          "text": [
            "[nltk_data] Downloading package stopwords to /root/nltk_data...\n",
            "[nltk_data]   Unzipping corpora/stopwords.zip.\n",
            "[nltk_data] Downloading package punkt to /root/nltk_data...\n",
            "[nltk_data]   Unzipping tokenizers/punkt.zip.\n",
            "[nltk_data] Downloading package wordnet to /root/nltk_data...\n"
          ]
        },
        {
          "output_type": "execute_result",
          "data": {
            "text/plain": [
              "True"
            ]
          },
          "metadata": {},
          "execution_count": 20
        }
      ]
    },
    {
      "cell_type": "markdown",
      "source": [
        "The three necessary resources, \"stopwords,\" \"punkt,\" and \"wordnet,\" are downloaded by the code snippet together with the import of the Natural Language Toolkit (nltk).The command nltk.download ('stopwords') obtains a list of frequently used words (such as \"and,\" \"the,\" and \"is\") that are typically removed during text processing. Tokenizing text into words or sentences is accomplished by downloading a pre-trained model using nltk.download('punkt')}. Finally, the WordNet lexical database, which offers rich word information like as definitions, synonyms, and antonyms, can be obtained by running `nltk.download('wordnet')`. For many activities related to natural language processing, including tokenization, text cleaning, and semantic analysis, these files are essential (Analytics Vidhya, 2021)."
      ],
      "metadata": {
        "id": "8tHlA92HgG8o"
      }
    },
    {
      "cell_type": "code",
      "source": [
        "stopwords = nltk.corpus.stopwords.words('english')\n",
        "first_10_stopwords = stopwords[:10]\n",
        "print(first_10_stopwords)"
      ],
      "metadata": {
        "colab": {
          "base_uri": "https://localhost:8080/"
        },
        "id": "PFK1QGJTWOOp",
        "outputId": "af4eaf94-267f-4d7f-9695-fb8b5a2ac02c"
      },
      "execution_count": 21,
      "outputs": [
        {
          "output_type": "stream",
          "name": "stdout",
          "text": [
            "['i', 'me', 'my', 'myself', 'we', 'our', 'ours', 'ourselves', 'you', \"you're\"]\n"
          ]
        }
      ]
    },
    {
      "cell_type": "markdown",
      "source": [
        "A list of English stopwords from the NLTK corpus is loaded using the code {stopwords = nltk.corpus.stopwords.words('english')}. Common words like \"we,\"our \"my,\" you\" are examples of these stopwords, which are usually eliminated during text preprocessing in jobs involving natural language processing. Eliminating these terms makes it easier to concentrate on the text's most important words, which increases the effectiveness and precision of tasks like text analysis and machine learning. Subsequently, this list is kept in the `stopwords} variable for convenient access and use in subsequent text processing stages (Analytics Vidhya, 2021)."
      ],
      "metadata": {
        "id": "WJwwkpJTZoEm"
      }
    },
    {
      "cell_type": "code",
      "source": [
        "# Define a function to remove stopwords from text\n",
        "def filter_stopwords(text):\n",
        "    cleaned_text = [word for word in text if word not in stopwords]\n",
        "    return cleaned_text\n",
        "#applying the function\n",
        "X_no_stopwords = tokens.apply(lambda x: filter_stopwords(x))\n",
        "X_no_stopwords.head()"
      ],
      "metadata": {
        "colab": {
          "base_uri": "https://localhost:8080/"
        },
        "id": "hhvUVX56XPqJ",
        "outputId": "ec5b3b9b-3fa2-4e1d-e4f4-d4e39945f2e0"
      },
      "execution_count": 22,
      "outputs": [
        {
          "output_type": "execute_result",
          "data": {
            "text/plain": [
              "0    [seriously, hate, one, subject, death, feel, r...\n",
              "1                     [im, full, life, feel, appalled]\n",
              "2    [sit, write, start, dig, feelings, think, afra...\n",
              "3    [ive, really, angry, r, feel, like, idiot, tru...\n",
              "4    [feel, suspicious, one, outside, like, rapture...\n",
              "Name: Comment, dtype: object"
            ]
          },
          "metadata": {},
          "execution_count": 22
        }
      ]
    },
    {
      "cell_type": "markdown",
      "source": [
        " A key step in text preparation (NLP) activities is the removal of stopwords. Common words like \"and,\" \"the,\" \"is,\" and \"in\" are stopwords since they usually don't have much significance and can be safely eliminated without affecting the text's overall context. By taking this step, the data's dimensionality is decreased and attention is drawn to the words that contain more important information for the investigation  (Agrawal, 2022).\n",
        "\n",
        "The purpose of the filter_stopwords function is to eliminate stopwords from a provided text. The function goes over the input text word by word and removes any words that are in the stopwords list. After cleaning, the text is sent back. After applying the function to the tokenized text data (tokens), the text data with stopwords deleted is included in X_no_stopwords. (Agrawal, 2022).\n",
        "\n",
        "The purpose of this study is to improve the quality of the input data for the NLP pipeline's later stages, including vectorization, feature extraction, and model training, by eliminating words from the text that don't significantly add to its meaning. By eliminating noise and concentrating on the most pertinent terms, this phase enhances the machine learning model's effectiveness and performance.(Agrawal, 2022)."
      ],
      "metadata": {
        "id": "o5YbZhouaX9Z"
      }
    },
    {
      "cell_type": "markdown",
      "source": [
        "**Applying Lemmatization**"
      ],
      "metadata": {
        "id": "SRWrBU8uvYku"
      }
    },
    {
      "cell_type": "code",
      "source": [
        "from nltk.stem import WordNetLemmatizer\n",
        "\n",
        "# Define a WordNetLemmatizer object\n",
        "wordnet_lemmatizer = WordNetLemmatizer()\n",
        "\n",
        "# Function to lemmatize text\n",
        "def lemmatize_words(text):\n",
        "    lemmatized_output = [wordnet_lemmatizer.lemmatize(word) for word in text]\n",
        "    return lemmatized_output\n",
        "\n",
        "# Applying lemmatization\n",
        "X_lemmatized = X_no_stopwords.apply(lambda x: lemmatize_words(x))\n",
        "X_lemmatized.head()"
      ],
      "metadata": {
        "colab": {
          "base_uri": "https://localhost:8080/"
        },
        "id": "6fMd0QOQeFmT",
        "outputId": "508f082e-b863-4160-db9c-69baa9b7fedc"
      },
      "execution_count": 29,
      "outputs": [
        {
          "output_type": "execute_result",
          "data": {
            "text/plain": [
              "0    [seriously, hate, one, subject, death, feel, r...\n",
              "1                     [im, full, life, feel, appalled]\n",
              "2    [sit, write, start, dig, feeling, think, afrai...\n",
              "3    [ive, really, angry, r, feel, like, idiot, tru...\n",
              "4    [feel, suspicious, one, outside, like, rapture...\n",
              "Name: Comment, dtype: object"
            ]
          },
          "metadata": {},
          "execution_count": 29
        }
      ]
    },
    {
      "cell_type": "markdown",
      "source": [
        "The code snippet  designed to eliminate stopwords from text data that has already been processed in order to perform lemmatization. In order to standardize word variants, lemmatization—a crucial stage in natural language processing (NLP)—reduces words to their basic or root form, or lemma. The `lemmatize_words` function is utilized to reduce words such as \"running\" and \"ran\" to their common lemma \"run\" for every tokenized and stopwords-filtered text in `X_no_stopwords}. The vocabulary is standardized through this procedure, which is necessary for tasks like text categorization, topic modeling, and sentiment analysis. Lemmatization reduces text data complexity and increases the model's capacity to infer general patterns from the data, which ultimately increases the efficacy and accuracy of NLP models(Codecademy, n.d.)."
      ],
      "metadata": {
        "id": "Qg7BRD0_Fpsk"
      }
    },
    {
      "cell_type": "markdown",
      "source": [
        "# **The primary objective of lemmatizing a dataset**           \n",
        "Rather than stemming the dataset, lemmatising correctly preserve word semantic meaning. Words are reduced to their lemma, or dictionary form, through lemmatization, which can produce a meaningful word by itself. By reducing terms like \"running\" and \"ran\" to \"run,\" this procedure makes sure that the meaning of the word in context is preserved. This method works well for tasks like sentiment analysis, topic modelling, or any other application where accurate representation of words in their canonical forms enhances analysis quality and machine learning model performance. These tasks require maintaining interpretability and semantic relevance (GeeksforGeeks, 2020)\n",
        "\n",
        "In contrast to lemmatization, stemming is more aggressive in eliminating prefixes and suffixes from words in order to reduce them to their root forms. However, in some situations, this can produce less interpretable or intelligible results. Lemmatization is therefore frequently chosen when accurate language comprehension and interpretation are crucial components of the research (GeeksforGeeks, 2020)\n",
        "\n",
        "Lemmatization is frequently preferred over stemming in emotion classification datasets due to its capacity to maintain contextual meaning and improve accuracy. Lemmatization lowers words to their base or dictionary form (lemma), as contrast to stemming, which truncates words to their root form without taking linguistic context into account. By ensuring that distinct word forms (such \"happy\" and \"happiness\") are associated with a single lemma (\"happy\"), this technique enhances the classifier's capacity to discern subtle emotional differences. Lemmatization is a preferred method even though it requires somewhat more computing power than stemming since it reduces ambiguity and preserves word meanings, which helps with more accurate emotion classification (GeeksforGeeks, 2020)."
      ],
      "metadata": {
        "id": "jeaDzsqTlqW7"
      }
    },
    {
      "cell_type": "code",
      "source": [
        "# Combining tokens back to a single string\n",
        "X_final_text = X_lemmatized.apply(lambda tokens: ' '.join(tokens))\n",
        "X_final_text.head()"
      ],
      "metadata": {
        "colab": {
          "base_uri": "https://localhost:8080/"
        },
        "id": "4xTdbALUf_TW",
        "outputId": "398a9aa8-8892-4be4-dc01-e0747bc3152d"
      },
      "execution_count": 30,
      "outputs": [
        {
          "output_type": "execute_result",
          "data": {
            "text/plain": [
              "0    seriously hate one subject death feel reluctan...\n",
              "1                           im full life feel appalled\n",
              "2    sit write start dig feeling think afraid accep...\n",
              "3    ive really angry r feel like idiot trusting fi...\n",
              "4    feel suspicious one outside like rapture happe...\n",
              "Name: Comment, dtype: object"
            ]
          },
          "metadata": {},
          "execution_count": 30
        }
      ]
    },
    {
      "cell_type": "markdown",
      "source": [
        "To prepare the text input for additional analysis or modeling in natural language processing (NLP), tokens are combined back into a single string as demonstrated in the code sample that is provided. To preserve context and readability, tokens must be combined back into coherent sentences or documents after being subjected to tokenization and lemmatization, which separate text into individual words and their base forms, respectively (Fardeen, 2021). Through this procedure, the cleaned and normalized text data is combined into a format that can be utilized directly to activities like sentiment analysis, text classification, feature extraction, and other NLP applications where text context and structure are critical. In the end, {X_final_text} denotes the processed textual data that is prepared for the NLP pipeline's later stages, guaranteeing that the insights derived from the analysis are accurate and meaningful.(Fardeen, 2021)."
      ],
      "metadata": {
        "id": "pTgJGRZ035Tl"
      }
    },
    {
      "cell_type": "code",
      "source": [
        "X_final_text.shape"
      ],
      "metadata": {
        "colab": {
          "base_uri": "https://localhost:8080/"
        },
        "id": "uryoUSia8lpe",
        "outputId": "c1156fc2-c6e1-48f0-8ed7-5372eba20634"
      },
      "execution_count": 31,
      "outputs": [
        {
          "output_type": "execute_result",
          "data": {
            "text/plain": [
              "(5937,)"
            ]
          },
          "metadata": {},
          "execution_count": 31
        }
      ]
    },
    {
      "cell_type": "markdown",
      "source": [
        "The number of rows and columns in the `X_final_text} dataset is given by `X_final_text.shape}. In natural language processing and machine learning, this data is essential for validating data pretreatment procedures and guaranteeing compatibility with later analysis and modeling activities (www.bing.com, 2022)."
      ],
      "metadata": {
        "id": "JJVmGMAiivvD"
      }
    },
    {
      "cell_type": "code",
      "source": [
        "Y.shape"
      ],
      "metadata": {
        "colab": {
          "base_uri": "https://localhost:8080/"
        },
        "id": "njolNxBV826Z",
        "outputId": "0e1d9d3f-e27c-458f-e263-c7ff26d1bef1"
      },
      "execution_count": 32,
      "outputs": [
        {
          "output_type": "execute_result",
          "data": {
            "text/plain": [
              "(5937,)"
            ]
          },
          "metadata": {},
          "execution_count": 32
        }
      ]
    },
    {
      "cell_type": "markdown",
      "source": [
        "The dimensions of the target variable dataset are indicated by {Y.shape}, which is important in supervised machine learning to comprehend the quantity of instances and classes. It facilitates the accurate preparation of data for model evaluation and training, guaranteeing that predictions match the labels of the ground truth. For machine learning applications such as classification or regression tasks to be effective, this knowledge directs the selection of suitable evaluation measures, data segmentation procedures, and model performance assessments (Fardeen, 2021)."
      ],
      "metadata": {
        "id": "UnKh1_9fj_Ke"
      }
    },
    {
      "cell_type": "markdown",
      "source": [
        "# **STEP 4: Train and Improve Model**"
      ],
      "metadata": {
        "id": "VnAK72tiy_-7"
      }
    },
    {
      "cell_type": "code",
      "source": [
        "from sklearn.model_selection import train_test_split\n",
        "\n",
        "# Splitting the data into training and test sets\n",
        "X_train, X_test, y_train, y_test = train_test_split(X_final_text, Y, test_size=0.2, random_state=42)"
      ],
      "metadata": {
        "id": "dZI3QoP4fP23"
      },
      "execution_count": 34,
      "outputs": []
    },
    {
      "cell_type": "markdown",
      "source": [
        "By dividing the dataset into training and test sets, this analysis aims to process text data for emotion categorization. The data (with {X_final_text{ representing the processed text features and {Y} the associated emotion labels) is split into training and test subsets, with 80% designated for training and 20% for testing, using the `train_test_split} function from `sklearn.model_selection~. In order to ensure that a machine learning model generalizes successfully to fresh, unobserved text inputs, it is imperative to complete this stage, which enables the model to learn from the training data and then assess its performance on the unseen test data (Fardeen, 2021)."
      ],
      "metadata": {
        "id": "31PAEj20qwKi"
      }
    },
    {
      "cell_type": "code",
      "source": [
        "# Initializing the TF-IDF vectorizer\n",
        "tfidf_vectorizer = TfidfVectorizer()"
      ],
      "metadata": {
        "id": "R8-j5BFgt0F7"
      },
      "execution_count": 35,
      "outputs": []
    },
    {
      "cell_type": "markdown",
      "source": [
        "To convert the text input into numerical features in this analysis, the `TfidfVectorizer` from the `sklearn.feature_extraction.text} module is started. Text processing techniques like TF-IDF (Term Frequency-Inverse Document Frequency) vectorization are frequently used to transform raw text into a matrix of TF-IDF attributes. This approach accounts for the fact that some words may appear frequently in many documents (inverse document frequency) in addition to the term frequency of terms in a document. The TF-IDF vectorizer aids in collecting the key elements of the text for ensuing machine learning tasks of emotion categorization by highlighting words that are more distinctive and possibly more informative (www.bing.com, 2022)."
      ],
      "metadata": {
        "id": "5yqbFRtsrIeo"
      }
    },
    {
      "cell_type": "code",
      "source": [
        "# Initializing the MultinomialNB classifier\n",
        "nb_model_pipeline = MultinomialNB()"
      ],
      "metadata": {
        "id": "vMakfkUzt1eM"
      },
      "execution_count": 36,
      "outputs": []
    },
    {
      "cell_type": "markdown",
      "source": [
        "In this analysis, text processing for emotion categorization is accomplished through the use of {MultinomialNB} (Multinomial Naive Bayes) within a machine learning pipeline. The {MultinomialNB} classifier is frequently used on text data that has been converted into feature vectors, as those produced by a TF-IDF vectorizer. It works well with discrete data. The analysis attempts to use the probabilistic technique of the {MultinomialNB} model to predict the emotional labels of text inputs based on word frequency and distribution by integrating it into the pipeline. This model works well for tasks in which the characteristics correspond to word counts or frequencies, which makes it a good option for classifying text data into different emotional states (GeeksforGeeks, 2020)."
      ],
      "metadata": {
        "id": "BWr1Nuj3sSDP"
      }
    },
    {
      "cell_type": "code",
      "source": [
        "# Construct pipeline with TF-IDF vectorization, SMOTE, and MultinomialNB classifier\n",
        "pipeline = Pipeline([\n",
        "    ('tfidf_vectorizer', tfidf_vectorizer),\n",
        "    ('MultinomialNB', nb_model_pipeline)\n",
        "])"
      ],
      "metadata": {
        "id": "zi4_wTCigiE-"
      },
      "execution_count": 37,
      "outputs": []
    },
    {
      "cell_type": "markdown",
      "source": [
        "Using the Term Frequency-Inverse Document Frequency (TF-IDF) approach, text data is vectorized in this step into numerical vectors. In relation to their frequency throughout the entire dataset, it depicts the significance of terms in documents (www.bing.com, 2020).\n",
        "\n",
        "Multinomial Naive Bayes Classifier: Text classification challenges are handled by the MultinomialNB classifier. It makes good use of discrete characteristics like word frequencies and capitalizes on the Naive Bayes assumption (www.bing.com, 2020).\n",
        "\n",
        "To sum up, this pipeline seeks to correct class imbalance, preprocess text data, and construct a classification model (www.bing.com, 2020)."
      ],
      "metadata": {
        "id": "hZQex7BUC0yO"
      }
    },
    {
      "cell_type": "markdown",
      "source": [],
      "metadata": {
        "id": "W3EM9yOaCOZ0"
      }
    },
    {
      "cell_type": "code",
      "source": [
        "print(f\"Shape of X_train: {X_train.shape}\")\n",
        "print(f\"Shape of y_train: {y_train.shape}\")"
      ],
      "metadata": {
        "colab": {
          "base_uri": "https://localhost:8080/"
        },
        "id": "9VeLWohQjHSf",
        "outputId": "c37a2fec-940c-477f-a6a5-173b2b43eb0e"
      },
      "execution_count": 38,
      "outputs": [
        {
          "output_type": "stream",
          "name": "stdout",
          "text": [
            "Shape of X_train: (4749,)\n",
            "Shape of y_train: (4749,)\n"
          ]
        }
      ]
    },
    {
      "cell_type": "markdown",
      "source": [
        "The preparation and processing of text data for emotion categorization is the main focus of this investigation. In order to construct and assess a machine learning model, the dataset is composed of text inputs and the appropriate emotion labels. The training set comprises 4,749 text entries and the corresponding emotion labels, as indicated by the shapes of `X_train} and `y_train}, which both contain 4,749 samples. This step's objective is to make sure the model can acquire knowledge from a significant amount of the data and identify the traits and patterns that distinguish various emotions. The analysis's goal is to create a strong classifier that can correctly predict the emotional content of brand-new, untested text inputs by training the model on this data (www.bing.com, 2022)."
      ],
      "metadata": {
        "id": "AvtTpro01ma0"
      }
    },
    {
      "cell_type": "code",
      "source": [
        "# Fit the pipeline on the training data\n",
        "pipeline.fit(X_train, y_train)\n",
        "\n",
        "# Predict the class labels for the test data using the fitted pipeline\n",
        "y_pred = pipeline.predict(X_test)\n",
        "\n",
        "# Calculating the accuracy of the predicted labels compared to the true labels\n",
        "accuracy = accuracy_score(y_test, y_pred)\n",
        "\n",
        "# Calculating the precision of the predicted labels compared to the true labels\n",
        "precision = precision_score(y_test, y_pred, average='weighted')\n",
        "\n",
        "# Calculating the recall of the predicted labels compared to the true labels\n",
        "recall = recall_score(y_test, y_pred, average='weighted')\n",
        "\n",
        "# Calculating the F1 score of the predicted labels compared to the true labels\n",
        "f1 = f1_score(y_test, y_pred, average='weighted')\n"
      ],
      "metadata": {
        "id": "ecNgb6tKjQ_1"
      },
      "execution_count": 39,
      "outputs": []
    },
    {
      "cell_type": "markdown",
      "source": [
        "The purpose of this analysis is to create and assess a machine learning model that uses text input to classify emotions. The model gains the ability to correlate text characteristics with the appropriate emotional labels by fitting a pipeline consisting of TF-IDF vectorization and a Multinomial Naive Bayes classifier on the training data. After training, a different test dataset is used to evaluate the model's performance by having it predict class labels and comparing it to the actual labels (riturajsaha, 2021). To assess the efficacy of the model, important metrics like accuracy, precision, recall, and F1 score are computed. These metrics offer a thorough understanding of the model's capacity to accurately categorize emotions, taking into consideration the harmony between recall (capturing all pertinent emotions) and precision (accurately identifying relevant emotions), with the ultimate goal of creating a dependable classifier for emotion detection in text (riturajsaha, 2021)"
      ],
      "metadata": {
        "id": "JFbC_QWZ2a-Z"
      }
    },
    {
      "cell_type": "code",
      "source": [
        "#Evaluating model\n",
        "print(classification_report(y_test, y_pred))"
      ],
      "metadata": {
        "colab": {
          "base_uri": "https://localhost:8080/"
        },
        "id": "LIYTCu8MLKmR",
        "outputId": "51b171d8-d380-42f7-8a30-b86b0a2330dd"
      },
      "execution_count": 40,
      "outputs": [
        {
          "output_type": "stream",
          "name": "stdout",
          "text": [
            "              precision    recall  f1-score   support\n",
            "\n",
            "           0       0.88      0.92      0.90       392\n",
            "           1       0.91      0.91      0.91       416\n",
            "           2       0.92      0.88      0.90       380\n",
            "\n",
            "    accuracy                           0.90      1188\n",
            "   macro avg       0.91      0.90      0.90      1188\n",
            "weighted avg       0.91      0.90      0.90      1188\n",
            "\n"
          ]
        }
      ]
    },
    {
      "cell_type": "markdown",
      "source": [
        "Class 0 (Fear):\n",
        "Precision: 88% (Out of all predicted fear instances, 88% are actually fear.)\n",
        "Recall: 92% (Out of all actual fear instances, 92% are correctly predicted as fear.)\n",
        "F1-score: 90% (A balanced measure combining precision and recall.)\n",
        "Support: 392 instances.\n",
        "\n",
        "Class 1 (Anger):\n",
        "Precision: 91% (High precision for anger predictions.)\n",
        "Recall: 91% (Good recall for actual anger instances.)\n",
        "F1-score: 91% (Harmonized precision and recall.)\n",
        "Support: 416 instances.\n",
        "\n",
        "Class 2 (Joy):\n",
        "Precision: 92% (Accurate predictions for joy.)\n",
        "Recall: 88% (Captures most actual joy instances.)\n",
        "F1-score: 90% (Balanced performance.)\n",
        "Support: 380 instances.\n",
        "\n",
        "Overall, the model achieves an accuracy of 90%, with strong performance across all emotions. Keep in mind that precision emphasizes correctness, while recall focuses on completeness. Depending on the application, we might prioritize one over the other (riturajsaha, 2021)."
      ],
      "metadata": {
        "id": "ZWSmRB-X2tjI"
      }
    },
    {
      "cell_type": "code",
      "source": [
        "from sklearn.metrics import accuracy_score,classification_report,confusion_matrix,recall_score,f1_score,precision_score,ConfusionMatrixDisplay"
      ],
      "metadata": {
        "id": "b7MOhAEgwDrw"
      },
      "execution_count": 41,
      "outputs": []
    },
    {
      "cell_type": "markdown",
      "source": [
        "This to assess a machine learning model for text data emotion classification. Metrics including accuracy, precision, recall, and F1 score are used to evaluate the model's performance on test data after it has been trained using a TF-IDF vectorizer and Multinomial Naive Bayes classifier. The model's capacity to accurately classify various emotions is revealed in depth by tools like the confusion matrix and classification report, which also assist identify areas for improvement (riturajsaha, 2021)."
      ],
      "metadata": {
        "id": "hoYt9ITx3eIz"
      }
    },
    {
      "cell_type": "code",
      "source": [
        "from sklearn.preprocessing import LabelEncoder\n",
        "lb = LabelEncoder() # Removed extra spaces before the code\n",
        "y_test_encoded = lb.fit_transform(y_test)\n",
        "num_classes = len(lb.classes_)"
      ],
      "metadata": {
        "id": "JAQhGWEji6da"
      },
      "execution_count": 42,
      "outputs": []
    },
    {
      "cell_type": "markdown",
      "source": [
        "In order for different machine learning algorithms to function, this stage encodes the category emotion labels into numeric form. The labels for the `y_test} are converted into numerical values using the `LabelEncoder` from `sklearn.preprocessing}. The discrete emotion labels are transformed into integer values throughout the encoding procedure, which facilitates the model's processing and interpretation of the input. Determining the amount of distinct classes ({num_classes}) also aids in comprehending the spectrum of emotions that the model is anticipated to categorize, guaranteeing that every possible category is taken into consideration throughout assessment and forecast (GeeksforGeeks, 2024)."
      ],
      "metadata": {
        "id": "louG8HtN4Llk"
      }
    },
    {
      "cell_type": "code",
      "source": [
        "import matplotlib.pyplot as plt # Import the matplotlib library and assigns it to the variable 'plt'\n",
        "from sklearn.metrics import accuracy_score,classification_report,confusion_matrix,recall_score,f1_score,precision_score,ConfusionMatrixDisplay\n",
        "\n",
        "display = ConfusionMatrixDisplay(confusion_matrix(y_test, y_pred))\n",
        "\n",
        "display.plot(cmap='Reds')\n",
        "\n",
        "plt.show() # Use the plt variable to display the plot"
      ],
      "metadata": {
        "colab": {
          "base_uri": "https://localhost:8080/",
          "height": 449
        },
        "id": "5GTvA6QwjoVp",
        "outputId": "33035f8c-c9f5-406f-81da-20917aac3d76"
      },
      "execution_count": 43,
      "outputs": [
        {
          "output_type": "display_data",
          "data": {
            "text/plain": [
              "<Figure size 640x480 with 2 Axes>"
            ],
            "image/png": "[encoded data removed]"
          },
          "metadata": {}
        }
      ]
    },
    {
      "cell_type": "markdown",
      "source": [
        "Out of all occurrences labeled as 'anger' (0), the top row shows that the model accurately forecasted 359 instances as 'anger,' misclassifying 17 instances as 'fear' (1) and 16 instances as 'pleasure' (2).\n",
        "- As can be seen in the second row, out of the cases categorized as \"fear\" (1), 380 were accurately classified as such, whilst 22 were mislabeled as \"anger\" and 14 as \"joy.\"\n",
        "- The third row shows that out of the cases with the label \"joy\" (2), 336 were correctly identified as such, 25 as \"anger,\" and 19 as \"fear\"  (GeeksforGeeks, 2020)."
      ],
      "metadata": {
        "id": "_QnOFAxn5_qf"
      }
    },
    {
      "cell_type": "code",
      "source": [
        "import numpy as np\n",
        "import matplotlib.pyplot as plt\n",
        "from sklearn.metrics import roc_curve, auc\n",
        "from sklearn.preprocessing import LabelBinarizer"
      ],
      "metadata": {
        "id": "_yXaIvS32hhO"
      },
      "execution_count": 44,
      "outputs": []
    },
    {
      "cell_type": "markdown",
      "source": [
        "This analysis's goal is to assess the emotion classification model's performance using AUC (Area Under the Curve) and ROC (Receiver Operating Characteristic) curves. We can see how well the model differentiates between various emotions by importing the required libraries, such as `numpy{, `matplotlib.pyplot{, `roc_curve}, {auc} from {sklearn.metrics}, and `LabelBinarizer} from `sklearn.preprocessing}. For ROC analysis, categorical emotion labels are converted into a binary format using the `LabelBinarizer`. The `auc} function determines the area under these curves, while the `roc_curve} function computes true positive and false positive rates, enabling us to plot ROC curves for each emotion class. This procedure aids in evaluating the model's capacity to discriminate between the emotions of \"fear,\" \"anger,\" and \"joy,\" with a higher AUC signifying superior performance (riturajsaha, 2021)."
      ],
      "metadata": {
        "id": "Nh95blRF6iSv"
      }
    },
    {
      "cell_type": "code",
      "source": [
        "# Assuming 'pipeline' is a trained model with a predict_proba method\n",
        "y_prob = pipeline.predict_proba(X_test)\n",
        "\n",
        "# Print the predicted probabilities\n",
        "print(y_prob)"
      ],
      "metadata": {
        "colab": {
          "base_uri": "https://localhost:8080/"
        },
        "id": "IB9HJJLn4_ut",
        "outputId": "a6c24723-659e-436c-fe06-c70f71806054"
      },
      "execution_count": 45,
      "outputs": [
        {
          "output_type": "stream",
          "name": "stdout",
          "text": [
            "[[0.67508379 0.13540613 0.18951008]\n",
            " [0.21372118 0.17427634 0.61200248]\n",
            " [0.24692722 0.40373786 0.34933492]\n",
            " ...\n",
            " [0.35270295 0.3223287  0.32496835]\n",
            " [0.22703867 0.54241855 0.23054279]\n",
            " [0.19109106 0.2527114  0.55619754]]\n"
          ]
        }
      ]
    },
    {
      "cell_type": "markdown",
      "source": [
        "The provided array represents the predicted probabilities for each emotion class ('anger', 'fear', and 'joy') for a set of test instances. Each row corresponds to a test instance, and the three columns represent the probabilities assigned to 'anger' (0), 'fear' (1), and 'joy' (2), respectively.\n",
        "\n",
        "- The first row `[0.67508379 0.13540613 0.18951008]` means the model predicts the first instance with a probability of approximately 67.5% for 'anger', 13.5% for 'fear', and 18.9% for 'joy'.\n",
        "- The second row `[0.21372118 0.17427634 0.61200248]` indicates a 21.4% chance of 'anger', 17.4% for 'fear', and 61.2% for 'joy'.\n",
        "- The third row `[0.24692722 0.40373786 0.34933492]` shows a 24.7% probability for 'anger', 40.4% for 'fear', and 34.9% for 'joy'.\n",
        "\n",
        "This probability distribution helps in understanding the model's confidence in its predictions, offering a nuanced view of how the model is making classification decisions. Analyzing these probabilities can provide insights into instances where the model might be uncertain or prone to misclassification (GeeksforGeeks, 2024)."
      ],
      "metadata": {
        "id": "hlremoaq67-0"
      }
    },
    {
      "cell_type": "code",
      "source": [
        "from sklearn.preprocessing import LabelBinarizer\n",
        "\n",
        "# Create an instance of LabelBinarizer\n",
        "label_binarizer = LabelBinarizer()\n",
        "\n",
        "# Apply the binarizer to fit and transform the test labels\n",
        "y_test_binary = label_binarizer.fit_transform(y_test)\n",
        "\n",
        "fpr = dict()\n",
        "tpr = dict()\n",
        "roc_auc = dict()\n",
        "num_classes = len(label_binarizer.classes_)\n",
        "for i in range(num_classes):\n",
        "    fpr[i], tpr[i], _ = roc_curve(y_test_binary[:, i], y_prob[:, i])  # Using y_test_binary\n",
        "    roc_auc[i] = auc(fpr[i], tpr[i])"
      ],
      "metadata": {
        "id": "GMm-vhoM5pFn"
      },
      "execution_count": 46,
      "outputs": []
    },
    {
      "cell_type": "markdown",
      "source": [
        "The above code snippet assesses a multi-class classification model's performance using Area Under the Curve (AUC) analysis and Receiver Operating Characteristic (ROC) curves. Using `LabelBinarizer`, it first binarizes the test set's categorical labels into a format that is appropriate for assessment. After that, iteratively computing unique ROC curves and AUC scores for each class, it measures how well the model differentiates across classes according to its predicted probabilities ({y_prob}). This method offers a thorough evaluation of the model's capacity for discrimination over a number of classes, providing information about its overall effectiveness and facilitating comparisons between predictions from different classes (www.bing.com, 2022)."
      ],
      "metadata": {
        "id": "on2KmuDI79_q"
      }
    },
    {
      "cell_type": "code",
      "source": [
        "from sklearn.metrics import roc_curve, auc\n",
        "\n",
        "# Initialize dictionaries to store false positive rate, true positive rate, and ROC AUC values\n",
        "false_positive_rate = {}\n",
        "true_positive_rate = {}\n",
        "roc_auc_values = {}\n",
        "\n",
        "# Determine the number of classes\n",
        "number_of_classes = len(label_binarizer.classes_)\n",
        "\n",
        "# Calculate the ROC curve and AUC for each class\n",
        "for class_index in range(number_of_classes):\n",
        "    false_positive_rate[class_index], true_positive_rate[class_index], _ = roc_curve(y_test_binary[:, class_index], y_prob[:, class_index])\n",
        "    roc_auc_values[class_index] = auc(false_positive_rate[class_index], true_positive_rate[class_index])"
      ],
      "metadata": {
        "id": "HDJQq9CkN_EN"
      },
      "execution_count": 47,
      "outputs": []
    },
    {
      "cell_type": "markdown",
      "source": [
        "This snippet of code evaluates the performance of a multi-class classification model using ROC curves and AUC metrics from `sklearn.metrics`. It sets up dictionaries to hold the ROC AUC values, true positive rates, and false positive rates for every class. It computes these metrics, iterating over each class, using binarized test labels ({y_test_binary}) and projected probabilities ({y_prob}). This method offers a thorough assessment of the model's ability to discriminate between several classes, providing information on its overall classification accuracy over a number of categories (riturajsaha, 2021)."
      ],
      "metadata": {
        "id": "45EjsgFz8Z5K"
      }
    },
    {
      "cell_type": "code",
      "source": [
        "# Plot the ROC curve for each class with different colors\n",
        "plt.figure(figsize=(9, 7))\n",
        "\n",
        "# Define colors for each class\n",
        "class_colors = ['violet', 'green', 'red', 'cyan', 'magenta', 'yellow', 'black']\n",
        "\n",
        "# Iterate over the number of classes\n",
        "for class_index, color in zip(range(number_of_classes), class_colors): # Use number_of_classes instead of X_final_text\n",
        "    plt.plot(false_positive_rate[class_index], true_positive_rate[class_index], color=color, lw=2,\n",
        "             label='Class {} (AUC = {:.2f})'.format(label_binarizer.classes_[class_index], roc_auc_values[class_index])) # Use the correct variable names\n",
        "\n",
        "# Plot the random guess line\n",
        "plt.plot([0, 1], [0, 1], linestyle='--', color='grey', label='Random Guess')\n",
        "\n",
        "# Set plot labels and title\n",
        "plt.xlabel('False Positive Rate')\n",
        "plt.ylabel('True Positive Rate')\n",
        "plt.title('ROC Curve for Multiclass Classification')\n",
        "plt.legend()\n",
        "plt.grid(True)\n",
        "plt.show()"
      ],
      "metadata": {
        "colab": {
          "base_uri": "https://localhost:8080/",
          "height": 641
        },
        "id": "CM04xqpf6zsF",
        "outputId": "4d959493-d49c-4648-da94-68fa479fb5cc"
      },
      "execution_count": 48,
      "outputs": [
        {
          "output_type": "display_data",
          "data": {
            "text/plain": [
              "<Figure size 900x700 with 1 Axes>"
            ],
            "image/png": "[encoded data removed]"
          },
          "metadata": {}
        }
      ]
    },
    {
      "cell_type": "markdown",
      "source": [
        "The code uses Matplotlib to create a multi-class ROC curve plot, with a different color assigned to each class. First, a figure with the specified dimensions ({plt.figure(figsize=(9, 7))}) is set up, and each class's colors are defined ({class_colors}). Plotting the ROC curve for each class iterates through, utilizing data from dictionaries containing the terms \"true_positive_rate\" and \"false_positive_rate.\" The name of the class and the associated AUC score ({roc_auc_values}) are labeled for each curve. In addition, the ROC curve for random guessing is shown as a dashed grey line. Lastly, the plot has a legend with class information, is labeled ({xlabel{, {ylabel{), and is titled ('title'). For clarity, a grid is added to the plot using the `grid(True)` function (GeeksforGeeks, 2024).\n",
        "\n",
        "Class 0 (Fear): An AUC of 0.98 indicates that the model is excellent at distinguishing fear from other emotions. It has a high true positive rate (correctly identifying fear instances) and a low false positive rate (misclassifying non-fear instances as fear) (GeeksforGeeks, 2024).\n",
        "\n",
        "Class 1 (Anger): With an AUC of 0.99, the model performs even better in identifying anger. It achieves near-perfect separation between anger and other emotions (GeeksforGeeks, 2024).\n",
        "\n",
        "Class 2 (Joy): Joy instances are also well-recognized by the model, as evidenced by the AUC of 0.98. It accurately distinguishes joy from fear and anger (GeeksforGeeks, 2024).\n",
        "\n",
        "These AUC values indicate how well the model separates each emotion compared to random guessing. Higher AUC values signify better performance (GeeksforGeeks, 2024)."
      ],
      "metadata": {
        "id": "qyj8JYJa87ga"
      }
    },
    {
      "cell_type": "markdown",
      "source": [
        "# ***Why SMOTE is not necessary? ***\n",
        "\n",
        "Based on the elevated AUC values of 0.98, 0.99, and 0.98 for fear, anger, and joy, respectively, we can deduce that the model exhibits strong performance in differentiating between various emotional states. In order to remedy class imbalance, SMOTE (Synthetic Minority Over-sampling Technique) often creates synthetic representatives of the minority class. But in this instance, the AUC values imply that the model is already capable of successfully differentiating between the classes. SMOTE may therefore not be required because it introduces noise or overfitting (www.bing.com, 2020)."
      ],
      "metadata": {
        "id": "6T62n8KvA_Sm"
      }
    }
  ]
}